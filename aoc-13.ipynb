{
 "cells": [
  {
   "cell_type": "code",
   "execution_count": null,
   "id": "b8cf76d2",
   "metadata": {},
   "outputs": [],
   "source": [
    "import numpy as np\n",
    "import matplotlib.pyplot as plt\n",
    "\n",
    "INPUT = []\n",
    "fold_INPUT = []\n",
    "with open(\"input13.txt\") as f :\n",
    "    for lines in f:\n",
    "        l = lines.replace('\\n', '').split(',')\n",
    "        if len(l) > 1:\n",
    "            INPUT.append([ int(l[0]), int(l[1]) ])\n",
    "\n",
    "        elif len(l[0]) == 0 :\n",
    "            pass\n",
    "        else :\n",
    "            l = lines.replace('\\n', '')\n",
    "            l = l.split('=')\n",
    "            l[0] = l[0].replace('fold along ', '')\n",
    "            l[1] = int(l[1])\n",
    "            fold_INPUT.append(l)\n",
    "def extract(tab):\n",
    "    res_x = []\n",
    "    res_y = []\n",
    "    for pts in tab:\n",
    "        res_x.append(pts[0])\n",
    "        res_y.append(pts[1])\n",
    "    return res_x, res_y\n",
    "\n",
    "def fold(tab, axis, dist):\n",
    "    if axis == 'y':\n",
    "        axe = 1\n",
    "    else : \n",
    "        axe = 0\n",
    "    for pts in range( len(tab) ):\n",
    "        if tab[pts][axe] > dist:\n",
    "            tab[pts][axe] = 2*dist - tab[pts][axe]\n",
    "\n",
    "def clean(tab) :\n",
    "    mem = []\n",
    "    for pts in range(len(tab)-1, -1, -1) :\n",
    "        if tab[pts] in mem :\n",
    "            tab.remove(tab[pts])\n",
    "        else :\n",
    "            mem.append(tab[pts])\n",
    "\n",
    "\n",
    "for instruction in fold_INPUT:\n",
    "    fold(INPUT, instruction[0], instruction[1])\n",
    "X, Y = extract(INPUT)\n",
    "\n",
    "INPUT.sort()\n",
    "print(INPUT)\n",
    "clean(INPUT)\n",
    "print(INPUT)\n",
    "print(len(INPUT))\n",
    "\n",
    "fig, AX = plt.subplots(1, 1)\n",
    "\n",
    "AX.scatter(X, Y)fold_INPUT\n",
    "AX.invert_yaxis()\n",
    "plt.axis(\"equal\")\n",
    "plt.show()"
   ]
  },
  {
   "cell_type": "code",
   "execution_count": 70,
   "id": "700288c0",
   "metadata": {
    "datalore": {
     "hide_input_from_viewers": false,
     "hide_output_from_viewers": false,
     "node_id": "RxLd4b1TxrVW5C3aRW6ZC3",
     "type": "CODE"
    },
    "scrolled": true
   },
   "outputs": [
    {
     "data": {
      "text/plain": [
       "[['x', 655],\n",
       " ['y', 447],\n",
       " ['x', 327],\n",
       " ['y', 223],\n",
       " ['x', 163],\n",
       " ['y', 111],\n",
       " ['x', 81],\n",
       " ['y', 55],\n",
       " ['x', 40],\n",
       " ['y', 27],\n",
       " ['y', 13],\n",
       " ['y', 6]]"
      ]
     },
     "metadata": {},
     "output_type": "display_data"
    }
   ],
   "source": [
    "fold_INPUT"
   ]
  },
  {
   "cell_type": "code",
   "execution_count": null,
   "id": "52569b1e",
   "metadata": {},
   "outputs": [],
   "source": [
    "import numpy as np\n",
    "import matplotlib.pyplot as plt\n",
    "\n",
    "x=np.linspace(-3,3,100)\n",
    "y=3*x+4\n",
    "\n",
    "fig, (ax1, ax2) = plt.subplots(1, 2)\n",
    "\n",
    "ax1.plot(x, y)\n",
    "ax1.set_title(\"Normal Plot\")\n",
    "\n",
    "ax2.plot(x, y)\n",
    "ax2.set_title(\"Reverted axes\")\n",
    "ax2.invert_xaxis()\n",
    "ax2.invert_yaxis()"
   ]
  }
 ],
 "metadata": {
  "kernelspec": {
   "display_name": "Python 3 (ipykernel)",
   "language": "python",
   "name": "python3"
  },
  "language_info": {
   "codemirror_mode": {
    "name": "ipython",
    "version": 3
   },
   "file_extension": ".py",
   "mimetype": "text/x-python",
   "name": "python",
   "nbconvert_exporter": "python",
   "pygments_lexer": "ipython3",
   "version": "3.9.7"
  }
 },
 "nbformat": 4,
 "nbformat_minor": 5
}
