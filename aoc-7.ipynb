{
 "cells": [
  {
   "cell_type": "code",
   "execution_count": null,
   "id": "afac0e6e",
   "metadata": {},
   "outputs": [],
   "source": [
    "##7.1\n",
    "import numpy as np\n",
    "import matplotlib.pyplot as plt\n",
    "\n",
    "vinput = []\n",
    "with open(\"input7.txt\") as f :\n",
    "    vinput = f.read().split((','))\n",
    "    vinput = [int(e) for e in vinput]\n",
    "np.array(vinput)\n",
    "\n",
    "moy = int(np.median(vinput))\n",
    "#468\n",
    "\n",
    "fuel = 0\n",
    "for i in vinput :\n",
    "    fuel += np.abs(i - moy)\n",
    "\n",
    "fuel\n",
    "    \n",
    "def fonction(moyenne) :\n",
    "    sum = 0\n",
    "    n = 0\n",
    "    for i in vinput :\n",
    "        n = np.abs(i - moyenne)\n",
    "        sum += n*(n+1)/2\n",
    "    return sum\n",
    "\n",
    "X = np.linspace(min(vinput), max(vinput), max(vinput) - min(vinput) + 1)\n",
    "\n",
    "plt.plot(X, fonction(X))\n",
    "plt.show()\n",
    "print(min(fonction(X)))"
   ]
  }
 ],
 "metadata": {
  "kernelspec": {
   "display_name": "Python 3 (ipykernel)",
   "language": "python",
   "name": "python3"
  },
  "language_info": {
   "codemirror_mode": {
    "name": "ipython",
    "version": 3
   },
   "file_extension": ".py",
   "mimetype": "text/x-python",
   "name": "python",
   "nbconvert_exporter": "python",
   "pygments_lexer": "ipython3",
   "version": "3.9.7"
  }
 },
 "nbformat": 4,
 "nbformat_minor": 5
}
