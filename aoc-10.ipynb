{
 "cells": [
  {
   "cell_type": "code",
   "execution_count": null,
   "id": "0049a6c2",
   "metadata": {},
   "outputs": [],
   "source": [
    "##10.1\n",
    "INPUT = []\n",
    "with open(\"input10.txt\") as f:\n",
    "    for lines in f:\n",
    "        INPUT.append(lines.replace('\\n', ''))\n",
    "\n",
    "table = {')': 3, ']': 57 ,'}': 1197, '>': 25137}\n",
    "openclosechar = {'(':')', '[':']', '{':'}', '<':'>'}\n",
    "\n",
    "def analyse(line) :\n",
    "    compiler = []\n",
    "    for char in line:\n",
    "        if char in openclosechar.keys() :\n",
    "            compiler.append(char)\n",
    "        elif char in openclosechar.values() :\n",
    "            X = compiler.pop()\n",
    "            if char != openclosechar.get(X):\n",
    "                return table.get(char)\n",
    "        else :\n",
    "            return 'wut'\n",
    "    return 0\n",
    "\n",
    "count = 0\n",
    "for line in range(len(INPUT)) :\n",
    "    count += analyse(INPUT[line])\n"
   ]
  },
  {
   "cell_type": "code",
   "execution_count": null,
   "id": "950ca4cb",
   "metadata": {},
   "outputs": [],
   "source": [
    "#10.2\n",
    "table = {')': 1, ']': 2,'}': 3, '>': 4}\n",
    "\n",
    "def analyse(line) :\n",
    "    compiler = []\n",
    "    corrupted = False\n",
    "    for char in line:\n",
    "        if char in openclosechar.keys() :\n",
    "            compiler.append(char)\n",
    "        elif char in openclosechar.values() :\n",
    "            X = compiler.pop()\n",
    "            if char != openclosechar.get(X):\n",
    "                corrupted = True\n",
    "        else :\n",
    "            return 'wut'\n",
    "    if corrupted :\n",
    "        return 0\n",
    "    else :\n",
    "        res = 0\n",
    "        while len(compiler) > 0:\n",
    "            res *= 5\n",
    "            res += table.get( openclosechar.get( compiler.pop() ))\n",
    "        return res\n",
    "\n",
    "RES = []\n",
    "for lines in INPUT:\n",
    "    if analyse(lines) > 0 :\n",
    "        RES.append(analyse(lines))\n",
    "\n",
    "RES.sort()\n",
    "RES[int(len(RES)/2)]\n",
    "#3005264911 sad\n",
    "#633964214 sad\n",
    "#3583341858 happy"
   ]
  }
 ],
 "metadata": {
  "kernelspec": {
   "display_name": "Python 3 (ipykernel)",
   "language": "python",
   "name": "python3"
  },
  "language_info": {
   "codemirror_mode": {
    "name": "ipython",
    "version": 3
   },
   "file_extension": ".py",
   "mimetype": "text/x-python",
   "name": "python",
   "nbconvert_exporter": "python",
   "pygments_lexer": "ipython3",
   "version": "3.9.7"
  }
 },
 "nbformat": 4,
 "nbformat_minor": 5
}
