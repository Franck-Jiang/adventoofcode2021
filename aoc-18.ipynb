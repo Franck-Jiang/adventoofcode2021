{
 "cells": [
  {
   "cell_type": "code",
   "execution_count": 1,
   "id": "1e972dcf",
   "metadata": {},
   "outputs": [],
   "source": [
    "data = []\n",
    "with open(\"input18.txt\") as f:\n",
    "    for lines in f:\n",
    "        data.extend(lines.replace(\"\\n\", \"\\n+\"))\n",
    "Data = []\n",
    "w = ''\n",
    "for c in data:\n",
    "    if c == '+':\n",
    "        Data.append(w.replace('\\n', ''))\n",
    "        w = ''\n",
    "        continue\n",
    "    w += c"
   ]
  },
  {
   "cell_type": "code",
   "execution_count": 2,
   "id": "696668be",
   "metadata": {},
   "outputs": [],
   "source": [
    "test = []\n",
    "with open(\"test18-2\") as f:\n",
    "    for lines in f:\n",
    "        test.extend(lines.replace(\"\\n\", \"\\n+\"))\n",
    "Test = []\n",
    "w = ''\n",
    "for c in test:\n",
    "    if c == '+':\n",
    "        Test.append(w.replace('\\n', ''))\n",
    "        w = ''\n",
    "        continue\n",
    "    w += c"
   ]
  },
  {
   "cell_type": "code",
   "execution_count": 3,
   "id": "b0eb7579",
   "metadata": {},
   "outputs": [
    {
     "data": {
      "text/plain": [
       "['[1,1]', '[2,2]', '[3,3]', '[4,4]', '[5,5]']"
      ]
     },
     "execution_count": 3,
     "metadata": {},
     "output_type": "execute_result"
    }
   ],
   "source": [
    "Test"
   ]
  },
  {
   "cell_type": "code",
   "execution_count": 83,
   "id": "0a748fc5",
   "metadata": {},
   "outputs": [],
   "source": [
    "from math import ceil\n",
    "\n",
    "def explode(eq):\n",
    "    eq = eq.replace(' ', '')\n",
    "    n = 0\n",
    "    left_val = None\n",
    "    left_val_index = None\n",
    "    next_val = None\n",
    "    next_val_index = None\n",
    "    before = True\n",
    "    Slice = None\n",
    "    res = list(eq)\n",
    "    i = 0\n",
    "    while i < len(eq):\n",
    "        #save last integer\n",
    "        if '0' <= eq[i] <= '9':\n",
    "            if before:\n",
    "                left_val = eq[i]\n",
    "                left_val_index = i\n",
    "            else :\n",
    "                if next_val is None:\n",
    "                    next_val = eq[i]\n",
    "                    next_val_index = i\n",
    "                    \n",
    "        #count pair depth \n",
    "        if eq[i] == '[' :\n",
    "            n += 1\n",
    "\n",
    "        elif eq[i] == ']':\n",
    "            n -= 1\n",
    "            \n",
    "        if '0' <= eq[i] <= '9':\n",
    "            if n > 4:\n",
    "                if Slice is None:\n",
    "                    Slice = slice(i-1, i+4)\n",
    "                    before = False\n",
    "                    i = Slice.stop \n",
    "                    n -= 1\n",
    "        i += 1\n",
    "        \n",
    "    if Slice is None:\n",
    "        return eq\n",
    "    \n",
    "    print(res[Slice])\n",
    "    if next_val is not None:\n",
    "        res[next_val_index] = str( int( res[Slice][3] ) + int(next_val) ) \n",
    "        \n",
    "    if left_val is not None:\n",
    "        res[left_val_index] = str( int( res[Slice][1] ) + int(left_val) ) \n",
    "\n",
    "    string = ''\n",
    "    res[Slice] = []\n",
    "    res.insert(Slice.start, '0')\n",
    "    for i in res:\n",
    "        if i != ' ':\n",
    "            string += str(i)\n",
    "    return string \n",
    "\n",
    "    \n",
    "def split(eq):\n",
    "    eq = eq.replace(' ', '')\n",
    "    i = 0\n",
    "    last_int = False\n",
    "    res = list(eq)\n",
    "    while i < len(res):\n",
    "        if '0' <= res[i] <= '9':\n",
    "            if last_int:\n",
    "                value = [int(res[i-1]+res[i])//2, ceil(int(res[i-1]+res[i])/2) ]\n",
    "                res[i-1:i+1] = []\n",
    "                res.insert(i-1, value)\n",
    "                last_int = False\n",
    "            else :\n",
    "                last_int = True\n",
    "        else :\n",
    "            last_int = False\n",
    "        i += 1\n",
    "        \n",
    "    string = ''\n",
    "    for i in res:\n",
    "        if i != ' ':\n",
    "            string += str(i)\n",
    "    return string.replace(' ', '')    \n",
    "\n",
    "def is_exploded(eq):\n",
    "    i = 0\n",
    "    n = 0\n",
    "    res = []\n",
    "    while i < len(eq):\n",
    "        #count pair depth \n",
    "        if eq[i] == '[' :\n",
    "            n += 1\n",
    "\n",
    "        elif eq[i] == ']':\n",
    "            n -= 1       \n",
    "        res.append(n)\n",
    "        i+= 1\n",
    "    return max(res) <= 4\n",
    "    \n",
    "    \n",
    "    \n",
    "def addition(eq1, eq2):\n",
    "    eq = '[' + eq1 + ',' + eq2 + ']'\n",
    "    last_eq = ''\n",
    "    hist = ''\n",
    "    reduced = False\n",
    "    exploded = False\n",
    "    splited = False\n",
    "    while not reduced:\n",
    "        if last_eq == eq :\n",
    "            reduced = True\n",
    "            return eq\n",
    "        last_eq = eq\n",
    "        hist = eq\n",
    "        \n",
    "#         print(\"to be split:\" + eq)\n",
    "        eq = split(eq)\n",
    "\n",
    "        while not is_exploded(eq):\n",
    "#         print(\"to be exploded:\" + eq)\n",
    "            eq = explode(eq)\n",
    "        print(eq)\n",
    "        "
   ]
  },
  {
   "cell_type": "code",
   "execution_count": 84,
   "id": "4f0df8c4",
   "metadata": {},
   "outputs": [],
   "source": [
    "def magnitude(eq):\n",
    "    if len(eq) <= 3:\n",
    "        return int(eq[1])\n",
    "    \n",
    "    \n",
    "    sep = None\n",
    "    n = 0\n",
    "    for i,c in enumerate(eq):\n",
    "        if c == '[':\n",
    "            n += 1\n",
    "        elif c == ']':\n",
    "            n -= 1\n",
    "        elif c == ',' and n == 1:\n",
    "            sep = i\n",
    "    \n",
    "    x, y = eq[1:sep], eq[sep+1:-1]\n",
    "    \n",
    "    if x[0] != '[':\n",
    "        x = '[' + x\n",
    "    if x[-1] != ']':\n",
    "        x += ']'\n",
    "        \n",
    "    if y[0] != '[':\n",
    "        y = '[' + y\n",
    "    if y[-1] != ']':\n",
    "        y += ']'   \n",
    "    return 3*magnitude(x) + 2*magnitude(y)\n",
    "\n"
   ]
  },
  {
   "cell_type": "code",
   "execution_count": 85,
   "id": "4ec4bc35",
   "metadata": {},
   "outputs": [
    {
     "name": "stdout",
     "output_type": "stream",
     "text": [
      "[[[[4,0],6],[4,4]],[[6,8],0]]\n",
      "['[', '4', ',', '0', ']']\n",
      "['[', '1', ',', '6', ']']\n",
      "['[', '8', ',', '9', ']']\n",
      "['[', '0', ',', '8', ']']\n",
      "['[', '1', '3', ',', '5']\n",
      "[[[[0,6],[4,4]],[[6,8],0]],[[1,[0,6]],[[0,11],[0,0]]]]]\n",
      "['[', '5', ',', '6', ']']\n",
      "[[[[0,6],[4,4]],[[6,8],0]],[[1,[0,6]],[[0,0],[6,0]]]]]\n",
      "[[[[0,6],[4,4]],[[6,8],0]],[[1,[0,6]],[[0,0],[6,0]]]]]\n",
      "[[[[0,6],[4,4]],[[6,8],0]],[[1,[0,6]],[[0,0],[6,0]]]]]\n",
      "['[', '0', ',', '6', ']']\n",
      "['[', '1', '0', ',', '4']\n"
     ]
    },
    {
     "ename": "ValueError",
     "evalue": "invalid literal for int() with base 10: ','",
     "output_type": "error",
     "traceback": [
      "\u001b[1;31m---------------------------------------------------------------------------\u001b[0m",
      "\u001b[1;31mValueError\u001b[0m                                Traceback (most recent call last)",
      "Input \u001b[1;32mIn [85]\u001b[0m, in \u001b[0;36m<cell line: 2>\u001b[1;34m()\u001b[0m\n\u001b[0;32m      2\u001b[0m \u001b[38;5;28;01mfor\u001b[39;00m calc \u001b[38;5;129;01min\u001b[39;00m Data[\u001b[38;5;241m1\u001b[39m:]:\n\u001b[0;32m      3\u001b[0m     \u001b[38;5;28mprint\u001b[39m(X)\n\u001b[1;32m----> 4\u001b[0m     X \u001b[38;5;241m=\u001b[39m \u001b[43maddition\u001b[49m\u001b[43m(\u001b[49m\u001b[43mX\u001b[49m\u001b[43m,\u001b[49m\u001b[43m \u001b[49m\u001b[43mcalc\u001b[49m\u001b[43m)\u001b[49m\n",
      "Input \u001b[1;32mIn [83]\u001b[0m, in \u001b[0;36maddition\u001b[1;34m(eq1, eq2)\u001b[0m\n\u001b[0;32m    116\u001b[0m         eq \u001b[38;5;241m=\u001b[39m split(eq)\n\u001b[0;32m    118\u001b[0m         \u001b[38;5;28;01mwhile\u001b[39;00m \u001b[38;5;129;01mnot\u001b[39;00m is_exploded(eq):\n\u001b[0;32m    119\u001b[0m \u001b[38;5;66;03m#         print(\"to be exploded:\" + eq)\u001b[39;00m\n\u001b[1;32m--> 120\u001b[0m             eq \u001b[38;5;241m=\u001b[39m \u001b[43mexplode\u001b[49m\u001b[43m(\u001b[49m\u001b[43meq\u001b[49m\u001b[43m)\u001b[49m\n\u001b[0;32m    121\u001b[0m         \u001b[38;5;28mprint\u001b[39m(eq)\n",
      "Input \u001b[1;32mIn [83]\u001b[0m, in \u001b[0;36mexplode\u001b[1;34m(eq)\u001b[0m\n\u001b[0;32m     44\u001b[0m \u001b[38;5;28mprint\u001b[39m(res[Slice])\n\u001b[0;32m     45\u001b[0m \u001b[38;5;28;01mif\u001b[39;00m next_val \u001b[38;5;129;01mis\u001b[39;00m \u001b[38;5;129;01mnot\u001b[39;00m \u001b[38;5;28;01mNone\u001b[39;00m:\n\u001b[1;32m---> 46\u001b[0m     res[next_val_index] \u001b[38;5;241m=\u001b[39m \u001b[38;5;28mstr\u001b[39m( \u001b[38;5;28;43mint\u001b[39;49m\u001b[43m(\u001b[49m\u001b[43m \u001b[49m\u001b[43mres\u001b[49m\u001b[43m[\u001b[49m\u001b[43mSlice\u001b[49m\u001b[43m]\u001b[49m\u001b[43m[\u001b[49m\u001b[38;5;241;43m3\u001b[39;49m\u001b[43m]\u001b[49m\u001b[43m \u001b[49m\u001b[43m)\u001b[49m \u001b[38;5;241m+\u001b[39m \u001b[38;5;28mint\u001b[39m(next_val) ) \n\u001b[0;32m     48\u001b[0m \u001b[38;5;28;01mif\u001b[39;00m left_val \u001b[38;5;129;01mis\u001b[39;00m \u001b[38;5;129;01mnot\u001b[39;00m \u001b[38;5;28;01mNone\u001b[39;00m:\n\u001b[0;32m     49\u001b[0m     res[left_val_index] \u001b[38;5;241m=\u001b[39m \u001b[38;5;28mstr\u001b[39m( \u001b[38;5;28mint\u001b[39m( res[Slice][\u001b[38;5;241m1\u001b[39m] ) \u001b[38;5;241m+\u001b[39m \u001b[38;5;28mint\u001b[39m(left_val) ) \n",
      "\u001b[1;31mValueError\u001b[0m: invalid literal for int() with base 10: ','"
     ]
    }
   ],
   "source": [
    "X = Data[0]\n",
    "for calc in Data[1:]:\n",
    "    print(X)\n",
    "    X = addition(X, calc)\n"
   ]
  },
  {
   "cell_type": "code",
   "execution_count": 6,
   "id": "9e665b62",
   "metadata": {},
   "outputs": [
    {
     "data": {
      "text/plain": [
       "'[[[[0,7],4],[[7,8],[6,0]]],[8,1]]'"
      ]
     },
     "execution_count": 6,
     "metadata": {},
     "output_type": "execute_result"
    }
   ],
   "source": [
    "f = \"[[[[4,3],4],4],[7,[[8,4],9]]]\"\n",
    "g = \"[1,1]\" #f+g = \"[[[[0,7],4],[[7,8],[6,0]]],[8,1]]\"\n",
    "\n",
    "addition(f, g)"
   ]
  },
  {
   "cell_type": "code",
   "execution_count": 12,
   "id": "abdc7d98",
   "metadata": {},
   "outputs": [],
   "source": [
    "a = \"[[[[[9,8],1],2],3],4]\" #\"[[[[0,9],2],3],4]\"\n",
    "b = \"[7,[6,[5,[4,[3,2]]]]]\" #\"[7,[6,[5,[7,0]]]]\"\n",
    "c = \"[[6,[5,[4,[3,2]]]],1]\" #\"[[6,[5,[7,0]]],3]\"\n",
    "#explode(a), explode(b), explode(c)"
   ]
  },
  {
   "cell_type": "code",
   "execution_count": 13,
   "id": "1e209ff3",
   "metadata": {},
   "outputs": [
    {
     "data": {
      "text/plain": [
       "True"
      ]
     },
     "execution_count": 13,
     "metadata": {},
     "output_type": "execute_result"
    }
   ],
   "source": [
    "d = \"[[[[0,7],4],[15,[0,13]]],[1,1]]\" #\"[[[[0,7],4],[[7,8],[0,[6,7]]]],[1,1]]\"\n",
    "e = \"[[[[0,7],4],[14,[0,13]]],[1,1]]\" #\"[[[[0,7],4],[[7,7],[0,[6,7]]]],[1,1]]\"\n",
    "is_Splited(a)"
   ]
  }
 ],
 "metadata": {
  "kernelspec": {
   "display_name": "Python 3 (ipykernel)",
   "language": "python",
   "name": "python3"
  },
  "language_info": {
   "codemirror_mode": {
    "name": "ipython",
    "version": 3
   },
   "file_extension": ".py",
   "mimetype": "text/x-python",
   "name": "python",
   "nbconvert_exporter": "python",
   "pygments_lexer": "ipython3",
   "version": "3.9.12"
  }
 },
 "nbformat": 4,
 "nbformat_minor": 5
}
