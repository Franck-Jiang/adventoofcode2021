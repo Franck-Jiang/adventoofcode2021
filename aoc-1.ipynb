{
 "cells": [
  {
   "cell_type": "code",
   "execution_count": null,
   "id": "c0f7b437",
   "metadata": {},
   "outputs": [],
   "source": [
    "###1\n",
    "Count = -3\n",
    "last_meas1 = 0\n",
    "last_meas2 = 0\n",
    "last_meas3 = 0\n",
    "\n",
    "\n",
    "\n",
    "with open( \"input.txt\") as f :\n",
    "    for lines in f :\n",
    "        val = int(lines)\n",
    "        if val > last_meas3  :\n",
    "            Count += 1\n",
    "        last_meas3 = last_meas2\n",
    "        last_meas2 = last_meas1\n",
    "        last_meas1 = val\n",
    "\n",
    "\n",
    "print(Count)\n",
    "\n",
    "        "
   ]
  }
 ],
 "metadata": {
  "kernelspec": {
   "display_name": "Python 3 (ipykernel)",
   "language": "python",
   "name": "python3"
  },
  "language_info": {
   "codemirror_mode": {
    "name": "ipython",
    "version": 3
   },
   "file_extension": ".py",
   "mimetype": "text/x-python",
   "name": "python",
   "nbconvert_exporter": "python",
   "pygments_lexer": "ipython3",
   "version": "3.9.7"
  }
 },
 "nbformat": 4,
 "nbformat_minor": 5
}
