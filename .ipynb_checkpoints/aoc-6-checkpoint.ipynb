{
 "cells": [
  {
   "cell_type": "code",
   "execution_count": null,
   "id": "4b402776",
   "metadata": {},
   "outputs": [],
   "source": [
    "##6\n",
    "\n",
    "import copy\n",
    "with open (\"input6.txt\") as f :\n",
    "    for lines in f :\n",
    "        init = lines\n",
    "init = init.split(',')\n",
    "for i in range(len(init)) :\n",
    "    init[i] = int(init[i])\n",
    "\n",
    "init.sort()\n",
    "FISH = init\n",
    "\n",
    "COUNT = []\n",
    "for i in range (9):\n",
    "    COUNT.append([i,0])\n",
    "\n",
    "for i in range(9) :\n",
    "    COUNT[i][1] += FISH.count(i)\n",
    "\n",
    "def reprod( fish_count ):\n",
    "    tmp1 = 0\n",
    "    nvN = copy.deepcopy(fish_count[0][1])\n",
    "    for i in range(0, 8):\n",
    "        fish_count[i][1] = fish_count[i+1][1]\n",
    "    fish_count[8][1] = nvN\n",
    "    fish_count[6][1] += nvN\n",
    "\n",
    "for days in range(256) :\n",
    "    reprod(COUNT)\n",
    "\n",
    "print(sum( COUNT[i][1] for i in range (9)))\n",
    "\n",
    "\n",
    "\n",
    "\n"
   ]
  }
 ],
 "metadata": {
  "kernelspec": {
   "display_name": "Python 3 (ipykernel)",
   "language": "python",
   "name": "python3"
  },
  "language_info": {
   "codemirror_mode": {
    "name": "ipython",
    "version": 3
   },
   "file_extension": ".py",
   "mimetype": "text/x-python",
   "name": "python",
   "nbconvert_exporter": "python",
   "pygments_lexer": "ipython3",
   "version": "3.9.7"
  }
 },
 "nbformat": 4,
 "nbformat_minor": 5
}
