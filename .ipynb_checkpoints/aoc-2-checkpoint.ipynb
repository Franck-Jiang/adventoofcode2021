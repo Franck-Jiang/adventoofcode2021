{
 "cells": [
  {
   "cell_type": "code",
   "execution_count": null,
   "id": "9bac1bbf",
   "metadata": {},
   "outputs": [],
   "source": [
    "###2\n",
    "\n",
    "horizontal = 0\n",
    "depth = 0\n",
    "aim = 0\n",
    "with open( \"input2.txt\") as f :\n",
    "    for lines in f :\n",
    "        keyword, n = lines.split(' ')\n",
    "        if keyword == \"forward\" :\n",
    "            horizontal += int(n)\n",
    "            depth += aim*int(n)\n",
    "        elif keyword == \"up\" :\n",
    "            aim -= int(n)\n",
    "\n",
    "        else :\n",
    "            aim += int(n)\n",
    "\n",
    "print(horizontal*depth)"
   ]
  }
 ],
 "metadata": {
  "kernelspec": {
   "display_name": "Python 3 (ipykernel)",
   "language": "python",
   "name": "python3"
  },
  "language_info": {
   "codemirror_mode": {
    "name": "ipython",
    "version": 3
   },
   "file_extension": ".py",
   "mimetype": "text/x-python",
   "name": "python",
   "nbconvert_exporter": "python",
   "pygments_lexer": "ipython3",
   "version": "3.9.7"
  }
 },
 "nbformat": 4,
 "nbformat_minor": 5
}
