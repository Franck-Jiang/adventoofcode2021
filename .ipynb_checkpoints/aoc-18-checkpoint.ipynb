{
 "cells": [
  {
   "cell_type": "code",
   "execution_count": 3,
   "id": "cf6976cd",
   "metadata": {},
   "outputs": [],
   "source": [
    "class Pair:\n",
    "    def __init__(self, x, y):\n",
    "        self.x = x\n",
    "        self.y = y\n",
    "        self.n = 1\n",
    "        self.size = 1\n",
    "        if type(x) != int :\n",
    "            self.size += x.size\n",
    "        if type(y) != int :           \n",
    "            self.size += y.size       \n",
    "            \n",
    "    def __str__(self):\n",
    "        return str([self.x, self.y])\n",
    "\n",
    "    def __repr__(self):\n",
    "        return str([self.x, self.y])\n",
    "\n",
    "\n",
    "    def __getitem__(self, i):\n",
    "        try :\n",
    "            if i < self.x.size :\n",
    "                return self.x[i-1]\n",
    "            else :\n",
    "                return self.y[i - self.y.size - 1]\n",
    "        except:\n",
    "            print(\"Out of index!\")\n",
    "        \n",
    "        \n",
    "    def refresh_n(self):\n",
    "        if type(self.x) == Pair:\n",
    "            self.x.n = self.n + 1\n",
    "            self.x.refresh_n()\n",
    "        if type(self.y) == Pair:\n",
    "            self.y.n = self.n + 1\n",
    "            self.y.refresh_n()\n",
    "            \n",
    "        \n",
    "def str2pair(string):\n",
    "    x, y = '', ''\n",
    "    c = 0\n",
    "    isY = False\n",
    "    for char in string:\n",
    "        if char == '[':\n",
    "            c += 1 \n",
    "            if c == 1 :\n",
    "                continue\n",
    "        \n",
    "        elif char == ']':\n",
    "            c -= 1\n",
    "            if c == 0:\n",
    "                continue\n",
    "\n",
    "        if char == ',' and c == 1:\n",
    "            isY = True\n",
    "            continue\n",
    "        \n",
    "        if isY:\n",
    "            y += char\n",
    "        else :\n",
    "            x += char\n",
    "    try :\n",
    "        x = int(x)\n",
    "    except ValueError :\n",
    "        x = str2pair(x)\n",
    "        \n",
    "    try :\n",
    "        y = int(y)\n",
    "    except ValueError:\n",
    "        y = str2pair(y)\n",
    "    return Pair(x,y)\n",
    "\n",
    "def show_n(pair, n):\n",
    "    pair.refresh_n()\n",
    "    print(pair, \":\", pair.n)\n",
    "    if isinstance(pair.x, Pair):\n",
    "        show_n(pair.x, n)\n",
    "    if type(pair.y) == Pair:\n",
    "        show_n(pair.y, n)\n",
    "    return\n",
    "\n",
    "#def reduce_pair(p):\n",
    "    "
   ]
  },
  {
   "cell_type": "code",
   "execution_count": 1,
   "id": "1e972dcf",
   "metadata": {},
   "outputs": [],
   "source": [
    "data = []\n",
    "with open(\"input18.txt\") as f:\n",
    "    for lines in f:\n",
    "        data.extend(lines.replace(\"\\n\", \"\\n+\"))\n",
    "Data = []\n",
    "w = ''\n",
    "for c in data:\n",
    "    if c == '+':\n",
    "        Data.append(w.replace('\\n', ''))\n",
    "        w = ''\n",
    "        continue\n",
    "    w += c"
   ]
  },
  {
   "cell_type": "code",
   "execution_count": 2,
   "id": "b0eb7579",
   "metadata": {},
   "outputs": [
    {
     "data": {
      "text/plain": [
       "'[[[[4,0],6],[4,4]],[[6,8],0]]'"
      ]
     },
     "execution_count": 2,
     "metadata": {},
     "output_type": "execute_result"
    }
   ],
   "source": [
    "Data[0]"
   ]
  },
  {
   "cell_type": "code",
   "execution_count": 136,
   "id": "0a748fc5",
   "metadata": {},
   "outputs": [],
   "source": [
    "import copy\n",
    "def reduce(eq):\n",
    "    n = 0\n",
    "    left_val = None\n",
    "    left_val_index = None\n",
    "    next_val = None\n",
    "    next_val_index = None\n",
    "    before = True\n",
    "    Slice = None\n",
    "    res = list(eq)\n",
    "    i = 0\n",
    "    while i < len(eq):\n",
    "        \n",
    "        #save last integer\n",
    "        if '0' <= eq[i] <= '9':\n",
    "            if before:\n",
    "                left_val = eq[i]\n",
    "                left_val_index = i\n",
    "            else :\n",
    "                if next_val is None:\n",
    "                    next_val = eq[i]\n",
    "                    next_val_index = i\n",
    "                    \n",
    "        #count pair depth \n",
    "        if eq[i] == '[' :\n",
    "            n += 1\n",
    "\n",
    "        elif eq[i] == ']':\n",
    "            n -= 1\n",
    "            \n",
    "        if n > 4:\n",
    "            if Slice is None:\n",
    "                Slice = slice(i, i+5)\n",
    "            before = False\n",
    "            i += 3\n",
    "        i += 1\n",
    "    \n",
    "    if left_val is not None:\n",
    "        \n",
    "        \n",
    "    if next_val is not None:\n",
    "        \n",
    "    print(res[Slice])\n",
    "    print(left_val, next_val)\n",
    "    string = ''\n",
    "    res[Slice] = []\n",
    "    \n",
    "    for i in res:\n",
    "        string += i\n",
    "    return string\n",
    "    \n",
    "                \n"
   ]
  },
  {
   "cell_type": "code",
   "execution_count": 137,
   "id": "abdc7d98",
   "metadata": {},
   "outputs": [
    {
     "name": "stdout",
     "output_type": "stream",
     "text": [
      "['[', '9', ',', '8', ']']\n",
      "None 1\n"
     ]
    },
    {
     "data": {
      "text/plain": [
       "'[[[[,1],2],3],4]'"
      ]
     },
     "execution_count": 137,
     "metadata": {},
     "output_type": "execute_result"
    }
   ],
   "source": [
    "a = \"[[[[[9,8],1],2],3],4]\" #\"[[[[0,9],2],3],4]\"\n",
    "b = \"[7,[6,[5,[4,[3,2]]]]]\" #\"[7,[6,[5,[7,0]]]]\"\n",
    "c = \"[[6,[5,[4,[3,2]]]],1]\" #\"[[6,[5,[7,0]]],3]\"\n",
    "reduce(a)"
   ]
  },
  {
   "cell_type": "code",
   "execution_count": 20,
   "id": "1e209ff3",
   "metadata": {},
   "outputs": [
    {
     "data": {
      "text/plain": [
       "21"
      ]
     },
     "execution_count": 20,
     "metadata": {},
     "output_type": "execute_result"
    }
   ],
   "source": [
    "len(a)"
   ]
  },
  {
   "cell_type": "code",
   "execution_count": 18,
   "id": "a50bfe1f",
   "metadata": {},
   "outputs": [
    {
     "name": "stdout",
     "output_type": "stream",
     "text": [
      "0\n",
      "1\n",
      "2\n",
      "3\n",
      "4\n"
     ]
    }
   ],
   "source": [
    "for i in range(5):\n",
    "    if i == 3:\n",
    "        pass\n",
    "    print(i)"
   ]
  },
  {
   "cell_type": "code",
   "execution_count": 19,
   "id": "c0e26104",
   "metadata": {},
   "outputs": [
    {
     "name": "stdout",
     "output_type": "stream",
     "text": [
      "0\n",
      "1\n",
      "2\n",
      "4\n"
     ]
    }
   ],
   "source": [
    "for i in range(5):\n",
    "    if i == 3:\n",
    "        continue\n",
    "    print(i)"
   ]
  },
  {
   "cell_type": "code",
   "execution_count": 117,
   "id": "17802b98",
   "metadata": {},
   "outputs": [
    {
     "data": {
      "text/plain": [
       "[7, 8, 9, 10, 11, 12, 13, 14, 15, 16]"
      ]
     },
     "execution_count": 117,
     "metadata": {},
     "output_type": "execute_result"
    }
   ],
   "source": [
    "list_a = [i+7 for i in range(10)]\n",
    "list_a"
   ]
  },
  {
   "cell_type": "code",
   "execution_count": 118,
   "id": "ee3f09c6",
   "metadata": {},
   "outputs": [],
   "source": [
    "x = slice(3,5)"
   ]
  },
  {
   "cell_type": "code",
   "execution_count": 132,
   "id": "ea135c71",
   "metadata": {},
   "outputs": [],
   "source": [
    "list_a[x] = []"
   ]
  },
  {
   "cell_type": "code",
   "execution_count": 133,
   "id": "b800c85c",
   "metadata": {},
   "outputs": [
    {
     "data": {
      "text/plain": [
       "[7, 8, 9, 16]"
      ]
     },
     "execution_count": 133,
     "metadata": {},
     "output_type": "execute_result"
    }
   ],
   "source": [
    "list_a"
   ]
  },
  {
   "cell_type": "code",
   "execution_count": null,
   "id": "0269b089",
   "metadata": {},
   "outputs": [],
   "source": []
  }
 ],
 "metadata": {
  "kernelspec": {
   "display_name": "Python 3 (ipykernel)",
   "language": "python",
   "name": "python3"
  },
  "language_info": {
   "codemirror_mode": {
    "name": "ipython",
    "version": 3
   },
   "file_extension": ".py",
   "mimetype": "text/x-python",
   "name": "python",
   "nbconvert_exporter": "python",
   "pygments_lexer": "ipython3",
   "version": "3.9.12"
  }
 },
 "nbformat": 4,
 "nbformat_minor": 5
}
