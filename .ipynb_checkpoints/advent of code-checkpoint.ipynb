{
 "cells": [
  {
   "attachments": {},
   "cell_type": "markdown",
   "metadata": {
    "datalore": {
     "hide_input_from_viewers": false,
     "hide_output_from_viewers": false,
     "sheet_delimiter": true,
     "type": "MD"
    }
   },
   "source": [
    "# 1-8"
   ]
  },
  {
   "cell_type": "code",
   "execution_count": 9,
   "metadata": {
    "datalore": {
     "hide_input_from_viewers": false,
     "hide_output_from_viewers": false,
     "node_id": "ioTPZzCNtGvu0krjcbL5px",
     "type": "CODE"
    }
   },
   "outputs": [
    {
     "name": "stdout",
     "output_type": "stream",
     "text": [
      "1706\n"
     ]
    }
   ],
   "source": [
    "###1\n",
    "Count = -3\n",
    "last_meas1 = 0\n",
    "last_meas2 = 0\n",
    "last_meas3 = 0\n",
    "\n",
    "\n",
    "\n",
    "with open( \"input.txt\") as f :\n",
    "    for lines in f :\n",
    "        val = int(lines)\n",
    "        if val > last_meas3  :\n",
    "            Count += 1\n",
    "        last_meas3 = last_meas2\n",
    "        last_meas2 = last_meas1\n",
    "        last_meas1 = val\n",
    "\n",
    "\n",
    "print(Count)\n",
    "\n",
    "        "
   ]
  },
  {
   "cell_type": "code",
   "execution_count": 5,
   "metadata": {
    "datalore": {
     "hide_input_from_viewers": false,
     "hide_output_from_viewers": false,
     "node_id": "2xYE89TgcrpYKoatV3ytpy",
     "type": "CODE"
    }
   },
   "outputs": [
    {
     "data": {
      "text/plain": [
       "0"
      ]
     },
     "metadata": {},
     "output_type": "display_data"
    }
   ],
   "source": [
    "import numpy as np\n",
    "A = [\"AZERTYUIOP\"]\n",
    "A.count('A')"
   ]
  },
  {
   "cell_type": "code",
   "execution_count": 8,
   "metadata": {
    "datalore": {
     "hide_input_from_viewers": false,
     "hide_output_from_viewers": false,
     "node_id": "6eLk0Bf8GnJAON0c9K6N1p",
     "type": "CODE"
    }
   },
   "outputs": [
    {
     "name": "stdout",
     "output_type": "stream",
     "text": [
      "1971095320\n"
     ]
    }
   ],
   "source": [
    "###2\n",
    "\n",
    "horizontal = 0\n",
    "depth = 0\n",
    "aim = 0\n",
    "with open( \"input2.txt\") as f :\n",
    "    for lines in f :\n",
    "        keyword, n = lines.split(' ')\n",
    "        if keyword == \"forward\" :\n",
    "            horizontal += int(n)\n",
    "            depth += aim*int(n)\n",
    "        elif keyword == \"up\" :\n",
    "            aim -= int(n)\n",
    "\n",
    "        else :\n",
    "            aim += int(n)\n",
    "\n",
    "print(horizontal*depth)"
   ]
  },
  {
   "cell_type": "code",
   "execution_count": 38,
   "metadata": {
    "datalore": {
     "hide_input_from_viewers": false,
     "hide_output_from_viewers": false,
     "node_id": "AgnTYwO3JPQxIbOBu1vkY0",
     "type": "CODE"
    }
   },
   "outputs": [
    {
     "name": "stdout",
     "output_type": "stream",
     "text": [
      "[0, 0, 0, 0, 1, 0, 1, 1, 1, 1, 1, 0]\n",
      "[1, 1, 1, 1, 0, 1, 0, 0, 0, 0, 0, 1]\n",
      "190  et  3905\n",
      "741950\n",
      "4095  comp à  4095\n"
     ]
    }
   ],
   "source": [
    "###3.1\n",
    "ones = 0\n",
    "zeros = 0\n",
    "gamma = []\n",
    "epsilon = []\n",
    "\n",
    "def bin (param) :\n",
    "    res = 0\n",
    "    for i in range (0, len(param)) :\n",
    "        res += 2**i * int(param[len(param) - i - 1])   \n",
    "    return res\n",
    "\n",
    "for i in range (12) :\n",
    "    ones = 0\n",
    "    zeros = 0\n",
    "    with open( \"input3.txt\") as f :\n",
    "        for lines in f :\n",
    "            if int(lines[i]) == 1 :\n",
    "                ones += 1\n",
    "            else :\n",
    "                zeros += 1\n",
    "        if int(ones) > int(zeros) :\n",
    "            gamma.append(1)\n",
    "            epsilon.append(0)\n",
    "        else :\n",
    "            gamma.append(0)\n",
    "            epsilon.append(1)\n",
    "\n",
    "print(gamma)\n",
    "print(epsilon)\n",
    "print(bin(gamma),\" et \", bin(epsilon))\n",
    "print(bin(gamma)*bin(epsilon))\n",
    "print(bin(gamma)+bin(epsilon), \" comp à \", 2**12 -1)\n",
    "        "
   ]
  },
  {
   "cell_type": "code",
   "execution_count": 18,
   "metadata": {
    "datalore": {
     "hide_input_from_viewers": false,
     "hide_output_from_viewers": false,
     "node_id": "q3P0waNL18T2o2kGLN9gU3",
     "type": "CODE"
    }
   },
   "outputs": [
    {
     "name": "stdout",
     "output_type": "stream",
     "text": [
      "903810\n"
     ]
    }
   ],
   "source": [
    "\n",
    "def bin (param) :\n",
    "    res = 0\n",
    "    for i in range (0, len(param)) :\n",
    "        res += 2**i * int(param[len(param) - i - 1])   \n",
    "    return res\n",
    "\n",
    "\n",
    "def crit(liste, index) :\n",
    "    if len(liste) == 1 :\n",
    "        return liste, liste\n",
    "    one = 0\n",
    "    oneL =[]\n",
    "    zero = 0\n",
    "    zeroL = []\n",
    "\n",
    "    for i in range(len(liste)) :\n",
    "        if liste[i][index] == '1' :\n",
    "            one += 1\n",
    "            oneL.append(liste[i])\n",
    "        else : \n",
    "            zero += 1\n",
    "            zeroL.append(liste[i])\n",
    "    if one >= zero :\n",
    "        return oneL, zeroL\n",
    "    else :\n",
    "        return zeroL, oneL \n",
    "\n",
    "res = []\n",
    "with open(\"input3.txt\") as f:\n",
    "    for lines in f :\n",
    "        res.append(lines)\n",
    "\n",
    "oxy = res\n",
    "co2 = res\n",
    "for i in range(12) :\n",
    "    oxy = crit( oxy, i)[0]\n",
    "    co2 = crit( co2, i)[1]\n",
    "\n",
    "print(bin( str( int(oxy[0]) ) ) * bin( str( int(co2[0]) )) )"
   ]
  },
  {
   "cell_type": "code",
   "execution_count": 252,
   "metadata": {
    "datalore": {
     "hide_input_from_viewers": false,
     "hide_output_from_viewers": false,
     "node_id": "MNvMomSmtbSB4hF3QMnz6n",
     "type": "CODE"
    }
   },
   "outputs": [
    {
     "name": "stdout",
     "output_type": "stream",
     "text": [
      "([74, 68, 12, 96, 83, 100, 89, 94, 24, 35, 90, 25, 43, 84, 54, 59, 62, 55, 71, 7, 41, 63, 65, 16, 30, 53, 76, 50, 87, 31, 78, 23, 58, 81, 40, 22, 77, 10, 48, 52, 1, 32, 49, 56, 64, 9, 38, 72, 13, 21, 42, 99, 36, 47, 97, 45, 51, 70, 92, 98, 5, 57, 60, 66, 17, 20, 67, 2, 11, 18, 19, 26, 82, 28, 91, 37, 69, 79, 46, 86, 3, 34, 61, 93, 39, 44, 27, 88, 80, 95, 14, 75, 73, 4, 33, 6, 8, 29, 85, 15], 82, [26, 55, 7, 40, 56, 34, 58, 90, 60, 83, 37, 36, 9, 27, 42, 19, 46, 18, 49, 52, 75, 17, 70, 41, 12, 78, 15, 64, 50, 54, 2, 77, 76, 10, 43, 79, 22, 32, 47, 0, 72, 30, 21, 82, 6, 95, 13, 59, 16, 89, 1, 85, 57, 62, 81, 38, 29, 80, 8, 67, 20, 53, 69, 25, 23, 61, 86, 71, 68, 98, 35, 31, 4, 33, 91, 74, 14, 28, 65, 24, 97, 88])\n",
      "22704\n"
     ]
    }
   ],
   "source": [
    "##4.1\n",
    "############DEF FONCTION#################\n",
    "def inputToTab (tab) :\n",
    "    if len(tab) < 5 :\n",
    "        tab = \"\"\n",
    "    tab = tab.split(\" \")\n",
    "    while tab.count(\"\") > 0 :\n",
    "        tab.remove(\"\")\n",
    "    for i in range (len(tab)) :\n",
    "        tab[i] = int(tab[i])\n",
    "    return tab\n",
    "\n",
    "def fusionTab(tab, index):\n",
    "    vres = []\n",
    "    debut = -index \n",
    "    for i in tab:\n",
    "        if  i == []:\n",
    "            debut += 1\n",
    "        if debut == 0 :\n",
    "            vres.append(i)\n",
    "        elif debut == 1:\n",
    "            vres.remove([])\n",
    "            return vres\n",
    "    return 'XXX'\n",
    "\n",
    "def winD(tab, tirage) :\n",
    "    diag = 0\n",
    "    ndiag = 0\n",
    "    for i in range (len (tab)) :\n",
    "        if tab[i][i] in tirage :\n",
    "            diag += 1\n",
    "        if tab [i][4 - i] in tirage :\n",
    "            ndiag += 1\n",
    "    if diag == 5 or ndiag == 5:\n",
    "        return True\n",
    "    else :\n",
    "        return False\n",
    "\n",
    "def winLC(tab, tirage) :\n",
    "    colonne = [0, 0, 0, 0, 0]\n",
    "    for i in range (len(tab)):\n",
    "        ligne = 0\n",
    "        for j in range (len(tab[i])) :\n",
    "            if tab[i][j] in tirage :\n",
    "                ligne += 1\n",
    "                colonne[j] += 1\n",
    "        if ligne == 5 or 5 in colonne:\n",
    "            return True\n",
    "    return False\n",
    "################MAIN#####################\n",
    "X = []\n",
    "with open(\"input4.txt\") as f :\n",
    "    for lines in f :\n",
    "        X.append(lines)\n",
    "tirage = X[0].split(\",\")\n",
    "for i in range( len(tirage) ) :\n",
    "    tirage[i] = int(tirage[i])\n",
    "\n",
    "list_tab = X[1:]\n",
    "list_tab.append([])\n",
    "\n",
    "for i in range( len (list_tab) ) :\n",
    "    list_tab[i] = inputToTab(list_tab[i])\n",
    "\n",
    "##################TEST##################\n",
    "def main() :\n",
    "    wins = []\n",
    "    for i in range (len( tirage)) :\n",
    "        tirage_i = tirage[:i]\n",
    "        for bingo_j in range (1,101) :\n",
    "            if len(wins) <= 99 :\n",
    "                if winD(fusionTab(list_tab, bingo_j), tirage_i) :\n",
    "                    if bingo_j not in wins :\n",
    "                        wins.append(bingo_j)\n",
    "                elif winLC(fusionTab(list_tab, bingo_j), tirage_i) :\n",
    "                    if bingo_j not in wins :\n",
    "                        wins.append(bingo_j)\n",
    "            else :\n",
    "                return wins, i, tirage_i\n",
    "            \n",
    "print(main())\n",
    "\n",
    "lastwin = fusionTab(list_tab, 15)\n",
    "tiragef = main()[2]\n",
    "somme = 0\n",
    "for i in range( len(lastwin) ):\n",
    "    for j in range (len (lastwin[i]) ):\n",
    "        if lastwin[i][j] not in tiragef :\n",
    "            somme += lastwin[i][j]\n",
    "\n",
    "print(somme*tiragef[-1])\n"
   ]
  },
  {
   "cell_type": "code",
   "execution_count": 165,
   "metadata": {
    "datalore": {
     "hide_input_from_viewers": false,
     "hide_output_from_viewers": false,
     "node_id": "SMwQAFyVy4PgAQ5w1akq63",
     "type": "CODE"
    }
   },
   "outputs": [
    {
     "name": "stdout",
     "output_type": "stream",
     "text": [
      "0\n",
      "0\n",
      "0\n",
      "0\n",
      "0\n",
      "0\n",
      "0\n",
      "0\n",
      "0\n",
      "0\n",
      "0\n",
      "0\n",
      "0\n",
      "0\n",
      "0\n",
      "0\n",
      "0\n",
      "0\n",
      "0\n",
      "0\n",
      "0\n",
      "0\n",
      "0\n",
      "0\n",
      "0\n",
      "0\n",
      "0\n",
      "0\n",
      "0\n",
      "0\n",
      "0\n",
      "0\n",
      "0\n",
      "0\n",
      "0\n",
      "0\n",
      "0\n",
      "0\n",
      "0\n",
      "0\n",
      "0\n",
      "0\n",
      "0\n",
      "0\n",
      "0\n",
      "0\n",
      "0\n",
      "0\n",
      "0\n",
      "0\n",
      "0\n",
      "0\n",
      "0\n",
      "0\n",
      "0\n",
      "0\n",
      "0\n",
      "0\n",
      "0\n",
      "0\n",
      "0\n",
      "0\n",
      "0\n",
      "0\n",
      "0\n",
      "0\n",
      "0\n",
      "0\n",
      "0\n",
      "0\n",
      "0\n",
      "0\n",
      "0\n",
      "0\n",
      "0\n",
      "0\n",
      "0\n",
      "0\n",
      "0\n",
      "0\n",
      "0\n",
      "0\n",
      "0\n",
      "0\n",
      "0\n",
      "0\n",
      "0\n",
      "0\n",
      "0\n",
      "0\n",
      "0\n",
      "0\n",
      "0\n",
      "0\n",
      "0\n",
      "0\n",
      "0\n",
      "0\n",
      "0\n",
      "0\n",
      "0\n",
      "0\n",
      "0\n",
      "0\n",
      "0\n",
      "0\n",
      "0\n",
      "0\n",
      "0\n",
      "0\n",
      "0\n",
      "0\n",
      "0\n",
      "0\n",
      "0\n",
      "0\n",
      "0\n",
      "0\n",
      "0\n",
      "0\n",
      "0\n",
      "0\n",
      "0\n",
      "0\n",
      "0\n",
      "0\n",
      "0\n",
      "0\n",
      "0\n",
      "0\n",
      "0\n",
      "0\n",
      "0\n",
      "0\n",
      "0\n",
      "0\n",
      "0\n",
      "0\n",
      "0\n",
      "0\n",
      "0\n",
      "0\n",
      "0\n",
      "0\n",
      "0\n",
      "0\n",
      "0\n",
      "0\n",
      "0\n",
      "0\n",
      "0\n",
      "0\n",
      "0\n",
      "0\n",
      "0\n",
      "0\n",
      "0\n",
      "0\n",
      "0\n",
      "0\n",
      "0\n",
      "0\n",
      "0\n",
      "0\n",
      "0\n",
      "0\n",
      "0\n",
      "0\n",
      "0\n",
      "0\n",
      "0\n",
      "0\n",
      "0\n",
      "0\n",
      "0\n",
      "0\n",
      "0\n",
      "0\n",
      "0\n",
      "0\n",
      "0\n",
      "0\n",
      "0\n",
      "0\n",
      "0\n",
      "0\n",
      "0\n",
      "0\n",
      "0\n",
      "0\n",
      "0\n",
      "0\n",
      "0\n",
      "0\n",
      "0\n",
      "0\n",
      "0\n",
      "0\n",
      "0\n",
      "0\n",
      "0\n",
      "0\n",
      "0\n",
      "0\n",
      "0\n",
      "0\n",
      "0\n",
      "0\n",
      "0\n",
      "0\n",
      "0\n",
      "0\n",
      "0\n",
      "0\n",
      "0\n",
      "0\n",
      "0\n",
      "0\n",
      "0\n",
      "0\n",
      "0\n",
      "0\n",
      "0\n",
      "0\n",
      "0\n",
      "0\n",
      "0\n",
      "0\n",
      "0\n",
      "0\n",
      "0\n",
      "0\n",
      "0\n",
      "0\n",
      "0\n",
      "0\n",
      "0\n",
      "0\n",
      "0\n",
      "0\n",
      "0\n",
      "0\n",
      "0\n",
      "0\n",
      "0\n",
      "0\n",
      "0\n",
      "0\n",
      "0\n",
      "0\n",
      "0\n",
      "0\n",
      "0\n",
      "0\n",
      "0\n",
      "0\n",
      "0\n",
      "0\n",
      "0\n",
      "0\n",
      "0\n",
      "0\n",
      "0\n",
      "0\n",
      "0\n",
      "0\n",
      "0\n",
      "0\n",
      "0\n",
      "0\n",
      "0\n",
      "0\n",
      "0\n",
      "0\n",
      "0\n",
      "0\n",
      "0\n",
      "0\n",
      "0\n",
      "0\n",
      "0\n",
      "0\n",
      "0\n",
      "0\n",
      "0\n",
      "0\n",
      "0\n",
      "0\n",
      "0\n",
      "0\n",
      "0\n",
      "0\n",
      "0\n",
      "0\n",
      "0\n",
      "0\n",
      "0\n",
      "0\n",
      "0\n",
      "0\n",
      "0\n",
      "0\n",
      "0\n",
      "0\n",
      "0\n",
      "0\n",
      "0\n",
      "0\n",
      "0\n",
      "0\n",
      "0\n",
      "0\n",
      "0\n",
      "0\n",
      "0\n",
      "0\n",
      "0\n",
      "0\n",
      "0\n",
      "0\n",
      "0\n",
      "0\n",
      "0\n",
      "0\n",
      "0\n",
      "0\n",
      "0\n",
      "0\n",
      "0\n",
      "0\n",
      "0\n",
      "0\n",
      "0\n",
      "0\n",
      "0\n",
      "0\n",
      "0\n",
      "0\n",
      "0\n",
      "0\n",
      "0\n",
      "0\n",
      "0\n",
      "0\n",
      "0\n",
      "0\n",
      "0\n",
      "0\n",
      "0\n",
      "0\n",
      "0\n",
      "0\n",
      "0\n",
      "0\n",
      "0\n",
      "0\n",
      "0\n",
      "0\n",
      "0\n",
      "0\n",
      "0\n",
      "0\n",
      "0\n",
      "0\n",
      "0\n",
      "0\n",
      "0\n",
      "0\n",
      "0\n",
      "0\n",
      "0\n",
      "0\n",
      "0\n",
      "0\n",
      "0\n",
      "0\n",
      "0\n",
      "0\n",
      "0\n",
      "0\n",
      "0\n",
      "0\n",
      "0\n",
      "0\n",
      "0\n",
      "0\n",
      "0\n",
      "0\n",
      "0\n",
      "0\n",
      "0\n",
      "0\n",
      "0\n",
      "0\n",
      "0\n",
      "0\n",
      "0\n",
      "0\n",
      "0\n",
      "0\n",
      "0\n",
      "0\n",
      "0\n",
      "0\n",
      "0\n",
      "0\n",
      "0\n",
      "0\n",
      "0\n",
      "0\n",
      "0\n",
      "0\n",
      "0\n",
      "0\n",
      "0\n",
      "0\n",
      "0\n",
      "0\n",
      "0\n",
      "0\n",
      "0\n",
      "0\n",
      "0\n",
      "0\n",
      "0\n",
      "0\n",
      "0\n",
      "0\n",
      "0\n",
      "0\n",
      "0\n",
      "0\n",
      "0\n",
      "0\n",
      "0\n",
      "0\n",
      "0\n",
      "0\n",
      "0\n",
      "0\n",
      "0\n",
      "0\n",
      "0\n",
      "0\n",
      "0\n",
      "0\n",
      "0\n",
      "0\n",
      "0\n",
      "0\n",
      "0\n",
      "0\n",
      "0\n",
      "0\n",
      "0\n",
      "0\n",
      "0\n",
      "0\n",
      "0\n",
      "0\n",
      "0\n",
      "0\n",
      "0\n",
      "0\n",
      "0\n",
      "0\n",
      "0\n",
      "0\n",
      "0\n",
      "0\n",
      "0\n",
      "0\n",
      "0\n",
      "0\n",
      "0\n",
      "0\n",
      "0\n",
      "0\n",
      "0\n",
      "0\n",
      "0\n",
      "0\n",
      "0\n",
      "0\n",
      "0\n",
      "0\n",
      "0\n",
      "0\n",
      "0\n",
      "0\n",
      "0\n",
      "0\n",
      "0\n",
      "0\n",
      "0\n",
      "0\n",
      "0\n",
      "0\n",
      "0\n",
      "0\n",
      "18605\n"
     ]
    }
   ],
   "source": [
    "import numpy as np\n",
    "##5.1\n",
    "\n",
    "##############DEF FONCTION###############\n",
    "\n",
    "def initStart(vent) :\n",
    "    debut   = [min( vent[0][0], vent[1][0] ), min( vent[0][1], vent[1][1])]\n",
    "    length  = [max( vent[0][0], vent[1][0] ) - debut[0], max( vent[0][1], vent[1][1]) - debut[1]] \n",
    "    return debut, length\n",
    "\n",
    "def trace(vplan, coord) :\n",
    "    cursor = coord[0]\n",
    "    long = max(coord[1])+1\n",
    "    error = 0\n",
    "    if coord[1][0] == 0 :\n",
    "        for y in range (long) :\n",
    "            if cursor[0]+1 > 999 :\n",
    "                error += 1\n",
    "            else :        \n",
    "                vplan[cursor[1]][cursor[0]] += 1\n",
    "                cursor[1] += 1\n",
    "    else :\n",
    "        for x in range (long) :\n",
    "            if cursor[1]+1 > 999 :\n",
    "                error += 1\n",
    "            else :\n",
    "                vplan[cursor[1]][cursor[0]] += 1\n",
    "                cursor[0] += 1 \n",
    "    print(error)\n",
    "\n",
    "def traceD(vplan, coord) :\n",
    "    cursor = coord[0]\n",
    "    error = 0\n",
    "    for x in range (0, coord[1][0]+np.sign( coord[1][0]), np.sign(coord[1][0]) ) :\n",
    "        if cursor[0]+1 > 999 or cursor[1]+1 > 999 :\n",
    "            error += 1\n",
    "        else :\n",
    "            vplan[cursor[1]][cursor[0]] += 1\n",
    "            cursor[0] += np.sign( coord[1][0])\n",
    "            cursor[1] += np.sign( coord[1][1])\n",
    "    print(error)\n",
    "\n",
    "\n",
    "def initStartD(vent) :\n",
    "    debut   = vent[0]\n",
    "    length  = [vent[1][0] - vent[0][0],vent[1][1] - vent[0][1] ] \n",
    "    return debut, length\n",
    "##################MAIN###################\n",
    "\n",
    "inputB = []\n",
    "inputC = []\n",
    "with open(\"input5.txt\") as f : \n",
    "    for lines in f :\n",
    "        v = lines.split(\"->\")\n",
    "        v[0] = v[0].split(\",\")\n",
    "        v[1] = v[1].split(\",\")\n",
    "        if int(v[0][0]) == int(v[1][0]) or int(v[0][1]) == int(v[1][1]):\n",
    "            for i in range ( len(v) ):\n",
    "                for j in range( len(v[i]) ):\n",
    "                    v[i][j] = int( v[i][j] )\n",
    "            inputB.append( v )\n",
    "        elif abs(int(v[0][0]) - int(v[1][0])) == abs(int(v[1][1]) - int(v[0][1])) :\n",
    "            for i in range ( len(v) ):\n",
    "                for j in range( len(v[i]) ):\n",
    "                    v[i][j] = int( v[i][j] )\n",
    "            inputC.append( v )            \n",
    "            \n",
    "\n",
    "#inputB[i] : hydro vent i\n",
    "#inputB[i][0] : coord debut hydro vent i\n",
    "#inputB[i][1] : coord fin hydro vent i\n",
    "#inputB[i][j][0] : coord x point j hydro vent i\n",
    "\n",
    "plan = np.zeros([1000,1000])\n",
    "\n",
    "for i in range (len( inputB )) :\n",
    "    inputB[i] = initStart(inputB[i])\n",
    "    if inputB[i][0][0] + inputB[i][1][0] < 999 and inputB[i][0][1] + inputB[i][1][1] < 999 :\n",
    "        trace(plan, inputB[i])\n",
    "\n",
    "for i in range (len (inputC)) :\n",
    "    inputC[i] = initStartD(inputC[i])\n",
    "    if inputC[i][0][0] + inputC[i][1][0] < 999 and inputC[i][0][1] + inputC[i][1][1] < 999 :\n",
    "        traceD(plan, inputC[i])\n",
    "restot = 0\n",
    "for y in plan :\n",
    "    for x in y :\n",
    "        if x > 1 :\n",
    "            restot += 1\n",
    "print(restot)\n"
   ]
  },
  {
   "cell_type": "code",
   "execution_count": 161,
   "metadata": {
    "datalore": {
     "hide_input_from_viewers": false,
     "hide_output_from_viewers": false,
     "node_id": "PrSBA0abYO0ZMtDiKywFaI",
     "type": "CODE"
    }
   },
   "outputs": [
    {
     "name": "stdout",
     "output_type": "stream",
     "text": [
      "([0, 4], [3, -3])\n",
      "3 -3\n",
      "0\n",
      "[[0. 0. 0. 0. 0. 0. 0. 0. 0. 0.]\n",
      " [0. 0. 0. 1. 0. 0. 0. 0. 0. 0.]\n",
      " [0. 0. 1. 0. 0. 0. 0. 0. 0. 0.]\n",
      " [0. 1. 0. 0. 0. 0. 0. 0. 0. 0.]\n",
      " [1. 0. 0. 0. 0. 0. 0. 0. 0. 0.]\n",
      " [0. 0. 0. 0. 0. 0. 0. 0. 0. 0.]\n",
      " [0. 0. 0. 0. 0. 0. 0. 0. 0. 0.]\n",
      " [0. 0. 0. 0. 0. 0. 0. 0. 0. 0.]\n",
      " [0. 0. 0. 0. 0. 0. 0. 0. 0. 0.]\n",
      " [0. 0. 0. 0. 0. 0. 0. 0. 0. 0.]]\n"
     ]
    }
   ],
   "source": [
    "\n",
    "\n",
    "###5.1\n",
    "##################TEST###################\n",
    "\n",
    "plan = np.zeros([10,10])\n",
    "\n",
    "def initStartD(vent) :\n",
    "    debut   = vent[0]\n",
    "    length  = [vent[1][0] - vent[0][0],vent[1][1] - vent[0][1] ] \n",
    "    return debut, length\n",
    "\n",
    "def traceD(vplan, coord) :\n",
    "    cursor = coord[0]\n",
    "    error = 0\n",
    "    print(coord[1][0], coord[1][1])\n",
    "    for x in range (0, coord[1][0]+np.sign( coord[1][0]), np.sign(coord[1][0]) ) :\n",
    "        if cursor[0]+1 > 9 or cursor[1]+1 > 9 :\n",
    "            error += 1\n",
    "        else :\n",
    "            vplan[cursor[1]][cursor[0]] += 1\n",
    "            cursor[0] += np.sign( coord[1][0])\n",
    "            cursor[1] += np.sign( coord[1][1])\n",
    "    print(error)\n",
    "\n",
    "A = [0,4]\n",
    "B = [3,1]\n",
    "AB = initStart([A,B])\n",
    "print(AB)\n",
    "traceD(plan, AB)\n",
    "print(plan)\n"
   ]
  },
  {
   "cell_type": "code",
   "execution_count": null,
   "metadata": {
    "datalore": {
     "hide_input_from_viewers": false,
     "hide_output_from_viewers": false,
     "node_id": "9Ngcnv0FPJyFfGb41da4Mh",
     "type": "CODE"
    }
   },
   "outputs": [],
   "source": [
    "4877"
   ]
  },
  {
   "cell_type": "code",
   "execution_count": 3,
   "metadata": {
    "datalore": {
     "hide_input_from_viewers": false,
     "hide_output_from_viewers": false,
     "node_id": "0GVXAt5opoWLqo0jSRhQ0m",
     "type": "CODE"
    }
   },
   "outputs": [
    {
     "name": "stdout",
     "output_type": "stream",
     "text": [
      "1689540415957\n"
     ]
    }
   ],
   "source": [
    "##6\n",
    "\n",
    "import copy\n",
    "with open (\"input6.txt\") as f :\n",
    "    for lines in f :\n",
    "        init = lines\n",
    "init = init.split(',')\n",
    "for i in range(len(init)) :\n",
    "    init[i] = int(init[i])\n",
    "\n",
    "init.sort()\n",
    "FISH = init\n",
    "\n",
    "COUNT = []\n",
    "for i in range (9):\n",
    "    COUNT.append([i,0])\n",
    "\n",
    "for i in range(9) :\n",
    "    COUNT[i][1] += FISH.count(i)\n",
    "\n",
    "def reprod( fish_count ):\n",
    "    tmp1 = 0\n",
    "    nvN = copy.deepcopy(fish_count[0][1])\n",
    "    for i in range(0, 8):\n",
    "        fish_count[i][1] = fish_count[i+1][1]\n",
    "    fish_count[8][1] = nvN\n",
    "    fish_count[6][1] += nvN\n",
    "\n",
    "for days in range(256) :\n",
    "    reprod(COUNT)\n",
    "\n",
    "print(sum( COUNT[i][1] for i in range (9)))\n",
    "\n",
    "\n",
    "\n",
    "\n"
   ]
  },
  {
   "cell_type": "code",
   "execution_count": 28,
   "metadata": {
    "datalore": {
     "hide_input_from_viewers": false,
     "hide_output_from_viewers": false,
     "node_id": "cZhB2SeFbhzreIxdXINmaU",
     "type": "CODE"
    }
   },
   "outputs": [
    {
     "name": "stdout",
     "output_type": "stream",
     "text": [
      "89791146.0\n"
     ]
    },
    {
     "data": {
      "image/png": "[encoded data removed]"
     },
     "metadata": {
      "image/png": {}
     },
     "output_type": "display_data"
    }
   ],
   "source": [
    "##7.1\n",
    "import numpy as np\n",
    "import matplotlib.pyplot as plt\n",
    "\n",
    "vinput = []\n",
    "with open(\"input7.txt\") as f :\n",
    "    vinput = f.read().split((','))\n",
    "    vinput = [int(e) for e in vinput]\n",
    "np.array(vinput)\n",
    "\n",
    "moy = int(np.median(vinput))\n",
    "#468\n",
    "\n",
    "fuel = 0\n",
    "for i in vinput :\n",
    "    fuel += np.abs(i - moy)\n",
    "\n",
    "fuel\n",
    "    \n",
    "def fonction(moyenne) :\n",
    "    sum = 0\n",
    "    n = 0\n",
    "    for i in vinput :\n",
    "        n = np.abs(i - moyenne)\n",
    "        sum += n*(n+1)/2\n",
    "    return sum\n",
    "\n",
    "X = np.linspace(min(vinput), max(vinput), max(vinput) - min(vinput) + 1)\n",
    "\n",
    "plt.plot(X, fonction(X))\n",
    "plt.show()\n",
    "print(min(fonction(X)))"
   ]
  },
  {
   "cell_type": "code",
   "execution_count": 5,
   "metadata": {
    "datalore": {
     "hide_input_from_viewers": false,
     "hide_output_from_viewers": false,
     "node_id": "Ilot4G6Xuqsmjj3Qv8yJaz",
     "type": "CODE"
    }
   },
   "outputs": [
    {
     "name": "stdout",
     "output_type": "stream",
     "text": [
      "9441\n",
      "1293\n",
      "3712\n",
      "7783\n",
      "744\n",
      "6454\n",
      "4071\n",
      "1815\n",
      "9574\n",
      "1112\n",
      "9424\n",
      "7992\n",
      "7897\n",
      "2871\n",
      "873\n",
      "4140\n",
      "5719\n",
      "4727\n",
      "8189\n",
      "4883\n",
      "7573\n",
      "2315\n",
      "7951\n",
      "6181\n",
      "2477\n",
      "7874\n",
      "7291\n",
      "8414\n",
      "4287\n",
      "7721\n",
      "8510\n",
      "4464\n",
      "9927\n",
      "8772\n",
      "8832\n",
      "1114\n",
      "8197\n",
      "1819\n",
      "1634\n",
      "4887\n",
      "3014\n",
      "4454\n",
      "6014\n",
      "7776\n",
      "7662\n",
      "859\n",
      "4588\n",
      "5225\n",
      "2748\n",
      "5570\n",
      "7388\n",
      "86\n",
      "1854\n",
      "1751\n",
      "3191\n",
      "4047\n",
      "8487\n",
      "9493\n",
      "4658\n",
      "8248\n",
      "7768\n",
      "4884\n",
      "7486\n",
      "1134\n",
      "1741\n",
      "1097\n",
      "7657\n",
      "7941\n",
      "1389\n",
      "5747\n",
      "1483\n",
      "3843\n",
      "7877\n",
      "9814\n",
      "5874\n",
      "4590\n",
      "8741\n",
      "1491\n",
      "4441\n",
      "1714\n",
      "6558\n",
      "3910\n",
      "4759\n",
      "4213\n",
      "1444\n",
      "9108\n",
      "8461\n",
      "8894\n",
      "2854\n",
      "8881\n",
      "410\n",
      "284\n",
      "7811\n",
      "8147\n",
      "1977\n",
      "2447\n",
      "8111\n",
      "4440\n",
      "8418\n",
      "1117\n",
      "4855\n",
      "1641\n",
      "5061\n",
      "7614\n",
      "8341\n",
      "1747\n",
      "2405\n",
      "6846\n",
      "8379\n",
      "778\n",
      "874\n",
      "1783\n",
      "8871\n",
      "7674\n",
      "1519\n",
      "9758\n",
      "1847\n",
      "8864\n",
      "9220\n",
      "2144\n",
      "7540\n",
      "4172\n",
      "431\n",
      "9488\n",
      "8542\n",
      "7758\n",
      "5987\n",
      "7849\n",
      "83\n",
      "9119\n",
      "4847\n",
      "5030\n",
      "4384\n",
      "1897\n",
      "5548\n",
      "1815\n",
      "2641\n",
      "5734\n",
      "1750\n",
      "3887\n",
      "4141\n",
      "9973\n",
      "7784\n",
      "4691\n",
      "4904\n",
      "1889\n",
      "6548\n",
      "8174\n",
      "4485\n",
      "4793\n",
      "7421\n",
      "4900\n",
      "9311\n",
      "1447\n",
      "1418\n",
      "7630\n",
      "5898\n",
      "188\n",
      "4489\n",
      "3413\n",
      "1334\n",
      "4483\n",
      "9305\n",
      "3170\n",
      "4237\n",
      "1789\n",
      "6489\n",
      "6746\n",
      "1484\n",
      "8781\n",
      "6741\n",
      "2331\n",
      "8971\n",
      "1074\n",
      "7967\n",
      "408\n",
      "2448\n",
      "3783\n",
      "6818\n",
      "7661\n",
      "3503\n",
      "6379\n",
      "7872\n",
      "4948\n",
      "6741\n",
      "1757\n",
      "3764\n",
      "5714\n",
      "8391\n",
      "2781\n",
      "8328\n",
      "4617\n",
      "1818\n",
      "7748\n",
      "1701\n",
      "7141\n",
      "9317\n",
      "418\n",
      "8441\n",
      "8841\n"
     ]
    },
    {
     "data": {
      "text/plain": [
       "1027483"
      ]
     },
     "metadata": {},
     "output_type": "display_data"
    }
   ],
   "source": [
    "##8.1\n",
    "\n",
    "X = []\n",
    "input = []\n",
    "output  = []\n",
    "with open(\"input8.txt\") as f :\n",
    "#with open(\"test\") as f :\n",
    "\n",
    "    for lines in f:\n",
    "        X = lines.split('|')\n",
    "        input.append( X[0].split(' ') )    \n",
    "        output.append( X[1].split(' ') )\n",
    "\n",
    "for line in range(len(input)) :\n",
    "    for i in range(len(input[line])):\n",
    "        input[line][i] = input[line][i].replace('\\n', \"\")\n",
    "    input[line].remove('')\n",
    "\n",
    "\n",
    "for line in range(len(output)) :\n",
    "    for i in range(len(output[line])):\n",
    "        output[line][i] = output[line][i].replace('\\n', \"\")\n",
    "    output[line].remove('')\n",
    "\n",
    "count_1478 = []\n",
    "for line in output :\n",
    "    for i in line :\n",
    "        if len(i) == 2 or len(i) == 4 or len(i) == 3 or len(i) == 7:\n",
    "            count_1478.append(1)\n",
    "        else : \n",
    "            count_1478.append(0)\n",
    "\n",
    "def compin(a, b): #a dans b ?\n",
    "    for lettre in a :\n",
    "        if lettre not in b :\n",
    "            return False\n",
    "    return True\n",
    "\n",
    "def decode(list_input):\n",
    "    digit = {}\n",
    "    for chiffre in list_input :\n",
    "        if len(chiffre) == 2 :\n",
    "            digit['1'] = chiffre\n",
    "        elif len(chiffre) == 3 :\n",
    "            digit['7'] = chiffre\n",
    "        elif len(chiffre) == 4 :\n",
    "            digit['4'] = chiffre\n",
    "        elif len(chiffre) == 7 :\n",
    "            digit['8'] = chiffre\n",
    "    for chiffre in list_input :\n",
    "        if (compin(digit['4'], chiffre)) and len(chiffre) == 6 :\n",
    "            digit['9'] = chiffre\n",
    "    for chiffre in list_input :\n",
    "        if not compin(digit['7'], chiffre) and len(chiffre) == 6 :\n",
    "            digit['6'] = chiffre        \n",
    "        elif compin(digit['7'], chiffre) and len(chiffre) == 6 and not compin(digit['4'], chiffre):\n",
    "            digit['0'] = chiffre\n",
    "        elif compin(digit['7'], chiffre) and len(chiffre) == 5 :\n",
    "            digit['3'] = chiffre \n",
    "    for chiffre in list_input :\n",
    "        if compin(chiffre, digit['6']) == 1 and len(chiffre) == 5:\n",
    "            digit['5'] = chiffre\n",
    "    for chiffre in list_input :\n",
    "        if chiffre not in digit.values() :\n",
    "            digit['2'] = chiffre\n",
    "    return digit\n",
    "\n",
    "def isequal(a, b):\n",
    "    x = b\n",
    "    for lettre in a :\n",
    "        if x.count(lettre) :\n",
    "            x = x.replace(lettre, '')\n",
    "        else :\n",
    "            return False\n",
    "    if len(x) == 0:\n",
    "        return True\n",
    "    else : \n",
    "        return False\n",
    "\n",
    "def decodevalue(digit_code, list_output):\n",
    "    RES = 0\n",
    "    for out in range(len(list_output)):\n",
    "        for val in range( len(digit_code) ) :\n",
    "            if isequal(digit_code[str(val)], list_output[out]) :\n",
    "                RES += val * 10**(len(list_output)-out-1)\n",
    "    print(RES)\n",
    "    return RES           \n",
    "            \n",
    "res = 0\n",
    "\n",
    "for i in range (len(input)) :\n",
    "    inputDecode = decode(input[i])\n",
    "    res += decodevalue(inputDecode, output[i])\n",
    "    i += 1\n",
    "\n",
    "res\n",
    "##1025885 sad"
   ]
  },
  {
   "cell_type": "code",
   "execution_count": 7,
   "metadata": {
    "datalore": {
     "hide_input_from_viewers": false,
     "hide_output_from_viewers": false,
     "node_id": "1snCzaLtF38brujhe704RF",
     "type": "CODE"
    }
   },
   "outputs": [
    {
     "name": "stdout",
     "output_type": "stream",
     "text": [
      "1112\n"
     ]
    },
    {
     "data": {
      "text/plain": [
       "1112"
      ]
     },
     "metadata": {},
     "output_type": "display_data"
    }
   ],
   "source": [
    "\n",
    "test = {'7' : 'akhbc', '6' : 'v'}\n",
    "#decode(input[9])\n",
    "decodevalue(decode(input[9]), output[9])"
   ]
  },
  {
   "cell_type": "code",
   "execution_count": null,
   "metadata": {
    "datalore": {
     "hide_input_from_viewers": false,
     "hide_output_from_viewers": false,
     "node_id": "zxYYR1ODMjuQFFOBKA3dB8",
     "type": "CODE"
    }
   },
   "outputs": [],
   "source": []
  },
  {
   "attachments": {},
   "cell_type": "markdown",
   "metadata": {
    "datalore": {
     "hide_input_from_viewers": false,
     "hide_output_from_viewers": false,
     "sheet_delimiter": true,
     "type": "MD"
    }
   },
   "source": [
    "# 9-12"
   ]
  },
  {
   "cell_type": "code",
   "execution_count": 1,
   "metadata": {
    "datalore": {
     "hide_input_from_viewers": false,
     "hide_output_from_viewers": false,
     "node_id": "bIJhZ7AiEJ0EWggLKKkG7z",
     "type": "CODE"
    }
   },
   "outputs": [
    {
     "name": "stdout",
     "output_type": "stream",
     "text": [
      "465\n"
     ]
    }
   ],
   "source": [
    "##9\n",
    "import numpy as np\n",
    "\n",
    "INPUT = []\n",
    "with open(\"input9.txt\") as f :\n",
    "    for lines in f :\n",
    "        tmp = []\n",
    "        for digit in lines :\n",
    "            if digit == '\\n':\n",
    "                pass\n",
    "            else :\n",
    "                tmp.append(int(digit))\n",
    "        \n",
    "        INPUT.append( tmp )\n",
    "\n",
    "def minlocal(tab) : #sagrandmere je connaissais pas try except\n",
    "    listres = []\n",
    "    for y in range (len(tab)) :\n",
    "        for x in range (len(tab[y])) :\n",
    "            if y == 0 :\n",
    "                if x == 0 :\n",
    "                    if tab[y+1][x] > tab[y][x] and tab[y][x+1] > tab[y][x] :\n",
    "                        listres.append([y,x])\n",
    "                elif x == len(tab[y]) - 1 :\n",
    "                    if tab[y+1][x] > tab[y][x] and tab[y][x-1] > tab[y][x] :\n",
    "                        listres.append([y,x])\n",
    "                else :\n",
    "                    if tab[y][x] < tab[y+1][x] and tab[y][x] < tab[y][x+1] and tab[y][x] < tab[y][x-1]:\n",
    "                        listres.append([y,x])\n",
    "            elif y == len(tab) - 1 :\n",
    "                if x == 0 :\n",
    "                    if tab[y-1][x] > tab[y][x] and tab[y][x+1] > tab[y][x] :\n",
    "                        listres.append([y,x])\n",
    "                elif x == len(tab[y]) - 1 :\n",
    "                    if tab[y-1][x] > tab[y][x] and tab[y][x-1] > tab[y][x] :\n",
    "                        listres.append([y,x])\n",
    "                else :\n",
    "                    if tab[y][x] < tab[y-1][x] and tab[y][x] < tab[y][x+1] and tab[y][x] < tab[y][x-1]:\n",
    "                        listres.append([y,x])\n",
    "            else :\n",
    "                if x == 0:\n",
    "                    if tab[y][x] < tab[y+1][x] and tab[y][x] < tab[y-1][x] and tab[y][x] < tab[y][x+1]:\n",
    "                        listres.append([y,x])\n",
    "                elif x == len(tab[y]) - 1 :\n",
    "                    if tab[y][x] < tab[y+1][x] and tab[y][x] < tab[y-1][x] and tab[y][x] < tab[y][x-1]:\n",
    "                        listres.append([y,x])\n",
    "                else:\n",
    "                    if tab[y][x] < tab[y+1][x] and tab[y][x] < tab[y-1][x] and tab[y][x] < tab[y][x+1] and tab[y][x] < tab[y][x-1]:\n",
    "                        listres.append([y,x])\n",
    "    return listres\n",
    "\n",
    "def minlocal2(tab):\n",
    "    res = []\n",
    "    for y in range(len(tab)) :\n",
    "        for x in range(len(tab[y])):\n",
    "            try :\n",
    "                if tab[y][x] < tab[y+1][x] and tab[y][x] < tab[y-1][x] and tab[y][x] < tab[y][x+1] and tab[y][x] < tab[y][x-1]:\n",
    "                    res.append(tab[y][x]+1)\n",
    "            except :\n",
    "                pass\n",
    "                \n",
    "    return res\n",
    "\n",
    "print(sum( minlocal2(INPUT)[i] for i in range (len(minlocal2(INPUT)))))\n"
   ]
  },
  {
   "cell_type": "code",
   "execution_count": 2,
   "metadata": {
    "datalore": {
     "hide_input_from_viewers": false,
     "hide_output_from_viewers": false,
     "node_id": "ZFotNw3FksxZmhtdfvhDTA",
     "type": "CODE"
    }
   },
   "outputs": [
    {
     "name": "stdout",
     "output_type": "stream",
     "text": [
      "207\n",
      "[1, 1, 2, 2, 2, 2, 2, 2, 2, 2, 2, 2, 2, 3, 3, 3, 3, 3, 3, 3, 3, 4, 4, 4, 4, 4, 4, 4, 5, 5, 6, 6, 6, 6, 6, 6, 6, 7, 7, 7, 7, 8, 8, 8, 9, 9, 9, 10, 10, 10, 10, 10, 10, 11, 11, 12, 12, 12, 13, 14, 14, 15, 15, 16, 16, 16, 16, 16, 17, 18, 18, 19, 19, 19, 20, 20, 20, 20, 21, 21, 21, 22, 23, 23, 23, 24, 24, 24, 24, 24, 24, 25, 26, 26, 27, 28, 28, 29, 29, 29, 29, 29, 29, 29, 30, 30, 30, 30, 32, 32, 32, 32, 33, 34, 34, 35, 36, 37, 37, 38, 38, 39, 39, 39, 40, 40, 41, 42, 42, 43, 43, 43, 44, 44, 44, 45, 45, 46, 46, 46, 46, 46, 46, 47, 47, 48, 50, 50, 50, 51, 51, 52, 53, 53, 53, 53, 54, 54, 55, 55, 55, 55, 55, 56, 57, 58, 58, 58, 58, 59, 59, 61, 62, 63, 63, 65, 65, 65, 66, 67, 67, 67, 68, 68, 68, 69, 69, 71, 71, 71, 72, 73, 75, 76, 77, 78, 78, 79, 81, 81, 83, 86, 91, 93, 93, 95, 96, 103, 106]\n",
      "1048128\n"
     ]
    }
   ],
   "source": [
    "##9.2\n",
    "def adj(tab, x, y):\n",
    "    res = []\n",
    "    if x == 0:\n",
    "        if y == 0 :\n",
    "            for ix,iy in {(0,1), (1,0),} :\n",
    "                try :\n",
    "                    if tab[y + iy][x +ix] < 9 :\n",
    "                        res.append([x + ix, y + iy ])\n",
    "                except :\n",
    "                    pass\n",
    "        else :\n",
    "            for ix,iy in {(0,1), (0,-1), (1,0)} :\n",
    "                try :\n",
    "                    if tab[y + iy][x +ix] < 9 :\n",
    "                        res.append(x + ix, [y + iy])\n",
    "                except :\n",
    "                    pass\n",
    "    else :    \n",
    "        if y == 0:\n",
    "            for ix, iy in {(0,1), (1,0), (-1,0)} :\n",
    "                try :\n",
    "                    if tab[y + iy][x +ix] < 9 :\n",
    "                        res.append([x + ix, y + iy])\n",
    "                except :\n",
    "                    pass\n",
    "        else :\n",
    "            for ix,iy in {(0,1), (0,-1), (1,0), (-1,0)} :\n",
    "                try :\n",
    "                    if tab[y + iy][x +ix] < 9 :\n",
    "                        res.append([x + ix, y + iy])\n",
    "                except :\n",
    "                    pass\n",
    "    return res\n",
    "\n",
    "def minlocalxy(tab):\n",
    "    res = []\n",
    "    for y in range(len(tab)) :\n",
    "        for x in range(len(tab[y])):\n",
    "            try :\n",
    "                if tab[y][x] < tab[y+1][x] and tab[y][x] < tab[y-1][x] and tab[y][x] < tab[y][x+1] and tab[y][x] < tab[y][x-1]:\n",
    "                    res.append([x,y])\n",
    "            except :\n",
    "                pass\n",
    "    return res\n",
    "\n",
    "def bassinhasadj(tab, bassin):  #tab [ [x1, x2...], [x'1, x'2...]]          bassin  [ [x1,y1], [x2,y2] ... ] \n",
    "    pts_left =[]\n",
    "    for pts in bassin :\n",
    "        for ptsadj in adj(tab, pts[0], pts[1]) :    #[ [x,y]adj ... ]\n",
    "            if ptsadj in bassin :\n",
    "                pass\n",
    "            else :\n",
    "                pts_left.append(ptsadj)\n",
    "    return pts_left\n",
    "\n",
    "def addtobassin(tab, bassin):\n",
    "    for pts in bassin :\n",
    "        for direction in range(4):\n",
    "            try :\n",
    "                if adj(tab, pts[0], pts[1])[direction] not in bassin:\n",
    "                    bassin.append(adj(tab, pts[0], pts[1])[direction])\n",
    "            except :\n",
    "                pass\n",
    "            \n",
    "\n",
    "def minbass(tab, lowpts_tab):\n",
    "    errorindex = 0\n",
    "    bassins = [[i] for i in lowpts_tab]    #[ [x,y] ]\n",
    "    for lowpts in range(len(lowpts_tab)) :\n",
    "        while len(bassinhasadj(tab, bassins[lowpts])) and errorindex < 1000:\n",
    "            addtobassin(tab, bassins[lowpts])\n",
    "            errorindex += 1\n",
    "\n",
    "    print(errorindex)\n",
    "    return [len(bassins[i]) for i in range(len(bassins))]\n",
    "\n",
    "#minlocalxy(INPUT)\n",
    "print(sorted(minbass(INPUT, minlocalxy(INPUT))))\n",
    "\n",
    "print(96*103*106)"
   ]
  },
  {
   "cell_type": "code",
   "execution_count": 38,
   "metadata": {
    "datalore": {
     "hide_input_from_viewers": false,
     "hide_output_from_viewers": false,
     "node_id": "zG7p9tRkSc5xfxDMb1Xjc2",
     "type": "CODE"
    }
   },
   "outputs": [],
   "source": [
    "##10.1\n",
    "INPUT = []\n",
    "with open(\"input10.txt\") as f:\n",
    "    for lines in f:\n",
    "        INPUT.append(lines.replace('\\n', ''))\n",
    "\n",
    "table = {')': 3, ']': 57 ,'}': 1197, '>': 25137}\n",
    "openclosechar = {'(':')', '[':']', '{':'}', '<':'>'}\n",
    "\n",
    "def analyse(line) :\n",
    "    compiler = []\n",
    "    for char in line:\n",
    "        if char in openclosechar.keys() :\n",
    "            compiler.append(char)\n",
    "        elif char in openclosechar.values() :\n",
    "            X = compiler.pop()\n",
    "            if char != openclosechar.get(X):\n",
    "                return table.get(char)\n",
    "        else :\n",
    "            return 'wut'\n",
    "    return 0\n",
    "\n",
    "count = 0\n",
    "for line in range(len(INPUT)) :\n",
    "    count += analyse(INPUT[line])\n"
   ]
  },
  {
   "cell_type": "code",
   "execution_count": 71,
   "metadata": {
    "datalore": {
     "hide_input_from_viewers": false,
     "hide_output_from_viewers": false,
     "node_id": "DyEVPVFEx2csVtTD4OOCkF",
     "type": "CODE"
    }
   },
   "outputs": [
    {
     "data": {
      "text/plain": [
       "3583341858"
      ]
     },
     "metadata": {},
     "output_type": "display_data"
    }
   ],
   "source": [
    "#10.2\n",
    "table = {')': 1, ']': 2,'}': 3, '>': 4}\n",
    "\n",
    "def analyse(line) :\n",
    "    compiler = []\n",
    "    corrupted = False\n",
    "    for char in line:\n",
    "        if char in openclosechar.keys() :\n",
    "            compiler.append(char)\n",
    "        elif char in openclosechar.values() :\n",
    "            X = compiler.pop()\n",
    "            if char != openclosechar.get(X):\n",
    "                corrupted = True\n",
    "        else :\n",
    "            return 'wut'\n",
    "    if corrupted :\n",
    "        return 0\n",
    "    else :\n",
    "        res = 0\n",
    "        while len(compiler) > 0:\n",
    "            res *= 5\n",
    "            res += table.get( openclosechar.get( compiler.pop() ))\n",
    "        return res\n",
    "\n",
    "RES = []\n",
    "for lines in INPUT:\n",
    "    if analyse(lines) > 0 :\n",
    "        RES.append(analyse(lines))\n",
    "\n",
    "RES.sort()\n",
    "RES[int(len(RES)/2)]\n",
    "#3005264911 sad\n",
    "#633964214 sad\n",
    "#3583341858 happy"
   ]
  },
  {
   "cell_type": "code",
   "execution_count": 2,
   "metadata": {
    "datalore": {
     "hide_input_from_viewers": false,
     "hide_output_from_viewers": false,
     "node_id": "OEtccpIMKMMpalb5fZcpKd",
     "type": "CODE"
    }
   },
   "outputs": [
    {
     "data": {
      "text/html": []
     },
     "metadata": {},
     "output_type": "display_data"
    }
   ],
   "source": [
    "#11.1\n",
    "import numpy as np\n",
    "\n",
    "INPUT = np.zeros([10,10])\n",
    "with open(\"input11.txt\") as f:\n",
    "    X = f.read().replace('\\n',' ').strip(' ').split(' ')\n",
    "    for i in range(len(X)):\n",
    "        for digit in range(len(X[i])):\n",
    "            INPUT[i][digit] = int(X[i][digit])\n",
    "\n",
    "def add1xy(tab, x, y):\n",
    "    try :\n",
    "        if tab[y][x] == 0:\n",
    "            pass\n",
    "        else :\n",
    "            tab[y][x] += 1\n",
    "    except :\n",
    "        pass\n",
    "\n",
    "def add1(tab):\n",
    "    for y in range(len(tab)):\n",
    "        for x in range(len(tab[y])):\n",
    "            tab[y][x] += 1\n",
    "\n",
    "def addadj(tab, x, y):\n",
    "    if x > 0 :\n",
    "        if y > 0 :\n",
    "            add1xy(tab,  x-1, y-1)\n",
    "        add1xy(tab, x-1, y+1)\n",
    "        add1xy(tab, x-1, y)\n",
    "    if y > 0 :\n",
    "        add1xy(tab, x,  y-1)\n",
    "        add1xy(tab, x+1,y-1)\n",
    "    add1xy(tab, x, y+1)\n",
    "    add1xy(tab, x+1, y)\n",
    "    add1xy(tab, x+1, y+1)\n",
    "\n",
    "\n",
    "def step(tab, x, y, clk):\n",
    "    if tab[y][x] >= 10 :\n",
    "        tab[y][x] = 0\n",
    "        addadj(tab, x, y)\n",
    "        clk = True\n",
    "    return clk\n",
    "\n",
    "def stepall(tab, clk):\n",
    "    clk = False\n",
    "    for y in range(len(tab)):\n",
    "        for x in range(len(tab[y])):\n",
    "            clk = step(tab, x, y, clk)\n",
    "    return clk\n",
    "\n",
    "def countf(tab):\n",
    "    flash = 0\n",
    "    for lines in tab:\n",
    "        flash += np.count_nonzero(lines == 0)\n",
    "    return flash\n",
    "\n",
    "INPUT\n",
    "#9818 sad\n",
    "#1413 ff\n",
    "#1653 low ff\n",
    "#1656 sad"
   ]
  },
  {
   "cell_type": "code",
   "execution_count": 4,
   "metadata": {
    "datalore": {
     "hide_input_from_viewers": false,
     "hide_output_from_viewers": false,
     "node_id": "uuL6CH6ZYSrxaQ6irLa2h2",
     "type": "CODE"
    }
   },
   "outputs": [
    {
     "data": {
      "text/plain": [
       "265"
      ]
     },
     "metadata": {},
     "output_type": "display_data"
    }
   ],
   "source": [
    "INPUT = np.zeros([10,10])\n",
    "INPUT1 = np.zeros([10,10])\n",
    "INPUT2 = np.zeros([10,10])\n",
    "with open(\"input11.txt\") as f:\n",
    "    X = f.read().replace('\\n',' ').strip(' ').split(' ')\n",
    "    for i in range(len(X)):\n",
    "        for digit in range(len(X[i])):\n",
    "            INPUT[i][digit] = int(X[i][digit])\n",
    "\n",
    "with open('teststep1') as f:\n",
    "    X = f.read().replace('\\n',' ').strip(' ').split(' ')\n",
    "    for i in range(len(X)):\n",
    "        for digit in range(len(X[i])):\n",
    "            INPUT1[i][digit] = int(X[i][digit])\n",
    "            \n",
    "with open('tsetstep2') as f:\n",
    "    X = f.read().replace('\\n',' ').strip(' ').split(' ')\n",
    "    for i in range(len(X)):\n",
    "        for digit in range(len(X[i])):\n",
    "            INPUT2[i][digit] = int(X[i][digit])\n",
    "\n",
    "def cycle(tab):\n",
    "    add1(tab)\n",
    "    nomodif = True\n",
    "    while nomodif:\n",
    "        nomodif = stepall(tab, nomodif)\n",
    "\n",
    "def comparaison(tab1, tab2):\n",
    "    res = np.zeros([10, 10])\n",
    "    for y in range(len(tab1)):\n",
    "        for x in range(len(tab1[y])):\n",
    "            res[y][x] = tab1[y][x]-tab2[y][x]\n",
    "    return res\n",
    "\n",
    "def illuminate(tab):\n",
    "    for y in range(len(tab)):\n",
    "        for x in range(len(tab[y])):\n",
    "            if tab[y][x] != 0:\n",
    "                return True\n",
    "    return False\n",
    "    \n",
    "#FLASH = countf(INPUT)\n",
    "\n",
    "nbCycle= 0\n",
    "while illuminate(INPUT):\n",
    "    cycle(INPUT)\n",
    "    nbCycle += 1\n",
    "\n",
    "\n",
    "nbCycle\n"
   ]
  },
  {
   "cell_type": "code",
   "execution_count": 20,
   "metadata": {
    "datalore": {
     "hide_input_from_viewers": false,
     "hide_output_from_viewers": false,
     "node_id": "8Deyp0S9jWdSPRA9MGqgcl",
     "type": "CODE"
    }
   },
   "outputs": [
    {
     "data": {
      "text/html": []
     },
     "metadata": {},
     "output_type": "display_data"
    }
   ],
   "source": [
    "INPUT2\n"
   ]
  },
  {
   "cell_type": "code",
   "execution_count": 42,
   "metadata": {
    "datalore": {
     "hide_input_from_viewers": false,
     "hide_output_from_viewers": false,
     "node_id": "2cBTcOuvltlFpEXLqX7Nbd",
     "type": "CODE"
    }
   },
   "outputs": [
    {
     "data": {
      "text/html": []
     },
     "metadata": {},
     "output_type": "display_data"
    }
   ],
   "source": [
    "INPUT1"
   ]
  },
  {
   "cell_type": "code",
   "execution_count": null,
   "metadata": {
    "datalore": {
     "hide_input_from_viewers": false,
     "hide_output_from_viewers": false,
     "node_id": "qQBuy1QRD6dYoCZYNzuHDO",
     "type": "CODE"
    }
   },
   "outputs": [],
   "source": [
    "INPUT2"
   ]
  },
  {
   "attachments": {},
   "cell_type": "markdown",
   "metadata": {
    "datalore": {
     "hide_input_from_viewers": false,
     "hide_output_from_viewers": false,
     "sheet_delimiter": true,
     "type": "MD"
    }
   },
   "source": [
    "# 12"
   ]
  },
  {
   "cell_type": "code",
   "execution_count": 238,
   "metadata": {
    "datalore": {
     "hide_input_from_viewers": false,
     "hide_output_from_viewers": false,
     "node_id": "9JtMrvhiDPIi4WLhXM5zfe",
     "type": "CODE"
    }
   },
   "outputs": [
    {
     "data": {
      "text/plain": [
       "155477"
      ]
     },
     "metadata": {},
     "output_type": "display_data"
    }
   ],
   "source": [
    "import copy\n",
    "import numpy as np\n",
    "\n",
    "#12\n",
    "INPUT = [] \n",
    "INPUT21 = [] \n",
    "INPUT22 = []\n",
    "INPUT23 = [] \n",
    "RESINPUT = []\n",
    "\n",
    "with open(\"input12.txt\") as f:\n",
    "    for lines in f:\n",
    "        INPUT.append(lines.replace('\\n', '').split('-'))\n",
    "with open(\"test12-1\") as f:\n",
    "    for lines in f:\n",
    "        INPUT21.append(lines.replace('\\n', '').split('-'))\n",
    "with open(\"test12-2\") as f:\n",
    "    for lines in f:\n",
    "        INPUT22.append(lines.replace('\\n', '').split('-'))\n",
    "\n",
    "with open(\"test12-3\") as f:\n",
    "    for lines in f:\n",
    "        INPUT23.append(lines.replace('\\n', '').split('-'))\n",
    "\n",
    "with open(\"restest12-3\") as f:\n",
    "    for lines in f:\n",
    "        RESINPUT.append(lines.replace('\\n', '').split(','))\n",
    "'''\n",
    "SCAVE = []\n",
    "BCAVE = []\n",
    "for x in INPUT :\n",
    "    for y in x :\n",
    "        if y not in SCAVE and y.islower():\n",
    "            SCAVE.append(y)\n",
    "        elif y not in BCAVE and y.isupper():\n",
    "            BCAVE.append(y)\n",
    "'''\n",
    "\n",
    "def next(tab, exit): #return exits from one cave\n",
    "    res = []\n",
    "    for path in tab :\n",
    "        if exit in path:\n",
    "            for i in path :\n",
    "                if i != exit :\n",
    "                    res.append( i )\n",
    "    return res\n",
    "\n",
    "def isValid(list) : #remove visited small caves\n",
    "    hasDouble = 0\n",
    "    for i in list:\n",
    "        if list.count('start') > 1 :\n",
    "            return False\n",
    "        if list.count(i) > 1 and i.islower() :\n",
    "            if list.count(i) == 2 and hasDouble < 2:\n",
    "                hasDouble += 1\n",
    "                pass\n",
    "            else :\n",
    "                return False\n",
    "    return True\n",
    "\n",
    "\n",
    "def isPath(path) :\n",
    "    if path[-1] == 'end':\n",
    "        return True\n",
    "    else:\n",
    "        return False\n",
    "\n",
    "def createRoute(tab, path): #return array of next possible path \n",
    "    res = []\n",
    "    #trsh = []\n",
    "    for exits in path:\n",
    "        next_path = next(tab, exits[-1])\n",
    "        for next_exit in next_path :\n",
    "            X = copy.deepcopy(exits)\n",
    "            X.append(next_exit)\n",
    "            if isValid(X):\n",
    "                res.append(X)\n",
    "            #else :\n",
    "            #    trsh.append(X)\n",
    "    return res#, trsh\n",
    "\n",
    "def explore(tab, cycle) :\n",
    "    map = [['start']]\n",
    "    found = 0\n",
    "    #res = []\n",
    "    #trsh = []\n",
    "    for _ in range(cycle) :\n",
    "        map = createRoute(tab, map)\n",
    "        for pathing_i in range( len(map)-1, -1, -1):\n",
    "            if isPath(map[pathing_i]) :\n",
    "                found += 1\n",
    "                #res.append(map[pathing_i])\n",
    "                map.remove(map[pathing_i])\n",
    "    if len(map) > 2 :\n",
    "        return 'incomplete'\n",
    "    return found\n",
    "\n",
    "explore(INPUT, 20)\n",
    "#5920 !!!!!!!!!!!!!!!!!!"
   ]
  },
  {
   "cell_type": "code",
   "execution_count": 218,
   "metadata": {
    "datalore": {
     "hide_input_from_viewers": false,
     "hide_output_from_viewers": false,
     "node_id": "HwYdUMxDctFJ0YUwmyayqQ",
     "type": "CODE"
    }
   },
   "outputs": [],
   "source": [
    "a = explore(INPUT23, 12)\n",
    "for i in a :\n",
    "    if i not in RESINPUT:\n",
    "        print(i)"
   ]
  },
  {
   "cell_type": "code",
   "execution_count": 230,
   "metadata": {
    "datalore": {
     "hide_input_from_viewers": false,
     "hide_output_from_viewers": false,
     "node_id": "OcnbPIIrgS1NRWB97RMTds",
     "type": "CODE"
    }
   },
   "outputs": [
    {
     "data": {
      "text/plain": [
       "[<generator object <genexpr> at 0x7f691821b9e0>]"
      ]
     },
     "metadata": {},
     "output_type": "display_data"
    }
   ],
   "source": [
    "test = [\"A\", \"B\"]\n",
    "test.remove(\"A\")\n",
    "test"
   ]
  },
  {
   "cell_type": "code",
   "execution_count": null,
   "metadata": {
    "datalore": {
     "hide_input_from_viewers": false,
     "hide_output_from_viewers": false,
     "node_id": "zBi7eGbAnRUQMBDNZB7Gjg",
     "type": "CODE"
    }
   },
   "outputs": [],
   "source": []
  },
  {
   "attachments": {},
   "cell_type": "markdown",
   "metadata": {
    "datalore": {
     "hide_input_from_viewers": false,
     "hide_output_from_viewers": false,
     "sheet_delimiter": true,
     "type": "MD"
    }
   },
   "source": [
    "# 13"
   ]
  },
  {
   "cell_type": "code",
   "execution_count": 73,
   "metadata": {
    "datalore": {
     "hide_input_from_viewers": false,
     "hide_output_from_viewers": false,
     "node_id": "YDSDDrwBXnWR8ldWCp666V",
     "type": "CODE"
    }
   },
   "outputs": [
    {
     "name": "stdout",
     "output_type": "stream",
     "text": [
      "[[0, 0], [0, 0], [0, 1], [0, 1], [0, 1], [0, 1], [0, 1], [0, 1], [0, 1], [0, 1], [0, 1], [0, 1], [0, 1], [0, 1], [0, 1], [0, 1], [0, 2], [0, 2], [0, 2], [0, 3], [0, 3], [0, 3], [0, 3], [0, 3], [0, 3], [0, 3], [0, 3], [0, 3], [0, 3], [0, 3], [0, 3], [0, 3], [0, 3], [0, 3], [0, 3], [0, 3], [0, 3], [0, 3], [0, 3], [0, 4], [0, 4], [0, 4], [0, 4], [0, 4], [0, 4], [0, 4], [0, 4], [0, 4], [0, 4], [0, 4], [0, 4], [0, 4], [0, 4], [0, 4], [0, 4], [0, 4], [0, 4], [0, 4], [0, 4], [0, 4], [0, 4], [0, 4], [0, 4], [0, 4], [0, 4], [0, 4], [0, 4], [0, 4], [0, 4], [0, 5], [0, 5], [0, 5], [0, 5], [0, 5], [0, 5], [0, 5], [0, 5], [0, 5], [0, 5], [0, 5], [0, 5], [0, 5], [1, 0], [1, 0], [1, 0], [1, 0], [1, 0], [1, 0], [1, 0], [1, 0], [1, 3], [2, 0], [2, 0], [2, 0], [2, 0], [2, 0], [2, 0], [2, 0], [2, 0], [2, 0], [2, 0], [2, 0], [2, 0], [2, 0], [2, 0], [2, 3], [2, 3], [2, 3], [2, 3], [3, 1], [3, 1], [3, 1], [3, 1], [3, 1], [3, 1], [3, 1], [3, 1], [3, 1], [3, 1], [3, 2], [3, 2], [3, 2], [3, 2], [3, 2], [3, 2], [3, 2], [3, 2], [3, 2], [3, 2], [3, 2], [3, 2], [3, 2], [3, 2], [5, 1], [5, 1], [5, 1], [5, 1], [5, 2], [5, 2], [5, 2], [5, 2], [5, 2], [5, 2], [5, 2], [5, 2], [5, 2], [5, 2], [5, 2], [5, 2], [5, 2], [5, 2], [5, 2], [5, 2], [5, 2], [5, 2], [5, 2], [5, 2], [5, 2], [5, 2], [5, 2], [5, 3], [5, 3], [5, 3], [5, 3], [5, 4], [5, 4], [5, 4], [5, 4], [5, 4], [5, 4], [5, 4], [5, 4], [5, 4], [5, 4], [6, 0], [6, 0], [6, 0], [6, 0], [6, 0], [6, 0], [6, 0], [6, 5], [6, 5], [6, 5], [6, 5], [6, 5], [6, 5], [6, 5], [6, 5], [6, 5], [6, 5], [6, 5], [6, 5], [7, 0], [7, 0], [7, 0], [7, 0], [7, 0], [7, 0], [7, 0], [7, 0], [7, 0], [7, 0], [7, 0], [7, 0], [7, 0], [7, 0], [7, 0], [7, 0], [7, 0], [7, 0], [7, 0], [7, 0], [7, 0], [7, 0], [7, 0], [7, 0], [7, 0], [7, 0], [7, 0], [7, 0], [7, 0], [7, 0], [7, 0], [7, 0], [7, 0], [7, 0], [7, 3], [7, 3], [7, 3], [7, 3], [7, 3], [7, 3], [7, 3], [7, 3], [7, 3], [7, 3], [7, 3], [7, 3], [7, 3], [7, 3], [7, 3], [7, 3], [7, 3], [7, 3], [7, 3], [7, 3], [7, 5], [7, 5], [7, 5], [7, 5], [7, 5], [8, 1], [8, 3], [8, 3], [8, 3], [8, 3], [8, 3], [8, 3], [8, 3], [8, 3], [8, 4], [8, 4], [8, 4], [8, 5], [8, 5], [8, 5], [8, 5], [8, 5], [8, 5], [8, 5], [8, 5], [8, 5], [8, 5], [8, 5], [8, 5], [8, 5], [8, 5], [8, 5], [8, 5], [8, 5], [8, 5], [8, 5], [8, 5], [8, 5], [8, 5], [8, 5], [8, 5], [8, 5], [8, 5], [8, 5], [8, 5], [8, 5], [8, 5], [8, 5], [8, 5], [10, 0], [10, 0], [10, 0], [10, 0], [10, 0], [10, 0], [10, 0], [10, 0], [10, 0], [10, 0], [10, 0], [10, 0], [10, 0], [10, 0], [10, 0], [10, 1], [10, 1], [10, 1], [10, 1], [10, 2], [10, 2], [10, 2], [10, 2], [10, 2], [10, 2], [10, 2], [10, 2], [10, 2], [10, 2], [10, 2], [10, 2], [10, 2], [10, 3], [10, 3], [10, 3], [10, 3], [10, 3], [10, 3], [10, 3], [10, 4], [10, 4], [10, 4], [10, 4], [10, 4], [10, 4], [10, 4], [10, 4], [10, 4], [10, 4], [10, 4], [10, 4], [10, 4], [10, 5], [10, 5], [10, 5], [10, 5], [10, 5], [10, 5], [10, 5], [10, 5], [11, 2], [11, 2], [11, 2], [11, 2], [11, 2], [11, 2], [11, 2], [11, 2], [11, 2], [12, 2], [13, 0], [13, 0], [13, 0], [13, 0], [13, 0], [13, 0], [13, 0], [13, 0], [13, 1], [13, 1], [13, 1], [13, 2], [13, 2], [13, 2], [13, 2], [13, 2], [13, 2], [13, 2], [13, 2], [13, 3], [13, 3], [13, 3], [13, 3], [13, 3], [13, 3], [13, 3], [13, 3], [13, 3], [13, 3], [13, 3], [13, 3], [13, 3], [13, 3], [13, 3], [13, 3], [13, 3], [13, 3], [13, 3], [13, 3], [13, 3], [13, 3], [13, 4], [13, 4], [13, 4], [13, 4], [13, 4], [13, 4], [13, 4], [13, 4], [13, 4], [13, 5], [13, 5], [15, 0], [15, 0], [15, 0], [15, 4], [15, 4], [15, 4], [15, 4], [15, 4], [15, 4], [15, 5], [15, 5], [15, 5], [15, 5], [15, 5], [15, 5], [16, 0], [16, 0], [16, 0], [16, 0], [16, 0], [16, 0], [16, 0], [16, 0], [16, 0], [16, 0], [16, 0], [16, 0], [16, 0], [16, 0], [16, 0], [16, 0], [16, 0], [16, 0], [16, 0], [16, 0], [16, 3], [16, 3], [16, 3], [16, 3], [16, 3], [16, 3], [16, 3], [16, 3], [16, 3], [16, 3], [16, 3], [16, 3], [16, 3], [16, 3], [16, 3], [16, 3], [16, 3], [16, 5], [16, 5], [16, 5], [16, 5], [16, 5], [17, 0], [17, 0], [17, 0], [17, 0], [17, 0], [17, 0], [17, 0], [17, 0], [17, 0], [17, 0], [17, 0], [17, 0], [17, 0], [17, 0], [17, 0], [17, 0], [17, 2], [17, 2], [17, 2], [17, 2], [17, 2], [17, 2], [17, 2], [17, 2], [17, 2], [17, 2], [17, 2], [17, 2], [17, 2], [17, 2], [17, 2], [17, 2], [17, 5], [17, 5], [17, 5], [17, 5], [18, 0], [18, 1], [18, 5], [18, 5], [18, 5], [18, 5], [20, 0], [20, 1], [20, 1], [20, 1], [20, 2], [20, 2], [20, 2], [20, 2], [20, 3], [20, 3], [20, 3], [20, 4], [20, 4], [20, 5], [20, 5], [20, 5], [20, 5], [21, 0], [21, 0], [21, 0], [21, 0], [21, 0], [21, 0], [21, 0], [21, 2], [21, 2], [21, 2], [21, 2], [21, 5], [21, 5], [21, 5], [21, 5], [21, 5], [21, 5], [21, 5], [21, 5], [21, 5], [21, 5], [22, 0], [22, 0], [22, 0], [22, 0], [22, 0], [22, 0], [22, 0], [22, 2], [22, 2], [22, 2], [22, 2], [22, 2], [22, 2], [22, 5], [22, 5], [22, 5], [22, 5], [22, 5], [22, 5], [22, 5], [22, 5], [22, 5], [22, 5], [22, 5], [22, 5], [22, 5], [23, 1], [23, 1], [23, 1], [23, 1], [23, 1], [23, 1], [23, 1], [23, 1], [23, 1], [23, 1], [23, 1], [23, 1], [23, 1], [23, 1], [23, 1], [23, 1], [23, 1], [23, 3], [23, 3], [23, 3], [23, 3], [23, 3], [23, 3], [23, 3], [23, 3], [23, 3], [23, 3], [23, 3], [23, 3], [23, 3], [23, 3], [23, 3], [23, 3], [23, 3], [23, 3], [23, 3], [23, 3], [23, 3], [23, 3], [23, 4], [23, 4], [23, 4], [23, 4], [25, 0], [25, 0], [25, 0], [25, 0], [25, 0], [25, 0], [25, 0], [25, 0], [25, 0], [25, 0], [25, 0], [25, 0], [25, 0], [25, 0], [25, 1], [25, 1], [25, 1], [25, 1], [25, 1], [25, 1], [25, 1], [25, 1], [25, 2], [25, 2], [25, 2], [25, 2], [25, 2], [25, 3], [25, 3], [25, 3], [25, 3], [25, 3], [25, 3], [25, 3], [25, 3], [25, 4], [25, 4], [25, 5], [25, 5], [25, 5], [25, 5], [25, 5], [25, 5], [25, 5], [26, 0], [26, 0], [26, 0], [26, 0], [26, 0], [26, 0], [26, 0], [26, 0], [26, 0], [26, 0], [26, 0], [26, 0], [26, 0], [26, 0], [26, 0], [26, 0], [26, 0], [26, 0], [26, 0], [26, 0], [26, 0], [26, 0], [26, 0], [26, 0], [26, 0], [26, 2], [26, 2], [26, 2], [26, 2], [26, 2], [26, 2], [26, 2], [26, 2], [26, 2], [26, 2], [26, 2], [26, 2], [27, 0], [27, 0], [27, 0], [27, 0], [27, 0], [27, 0], [27, 0], [27, 0], [27, 0], [27, 0], [27, 0], [27, 0], [27, 0], [27, 0], [27, 2], [27, 2], [27, 2], [27, 2], [28, 0], [28, 0], [28, 0], [28, 0], [28, 0], [28, 0], [28, 0], [28, 0], [28, 0], [28, 0], [28, 0], [30, 4], [30, 4], [30, 4], [30, 4], [30, 4], [30, 4], [31, 5], [31, 5], [31, 5], [31, 5], [32, 0], [32, 0], [32, 0], [32, 0], [32, 0], [32, 0], [32, 0], [32, 0], [32, 0], [32, 0], [32, 0], [32, 0], [32, 0], [32, 0], [32, 5], [32, 5], [32, 5], [32, 5], [32, 5], [32, 5], [32, 5], [33, 0], [33, 0], [33, 0], [33, 0], [33, 0], [33, 0], [33, 0], [33, 0], [33, 0], [33, 0], [33, 0], [33, 0], [33, 0], [33, 0], [33, 0], [33, 0], [33, 0], [33, 0], [33, 0], [33, 1], [33, 1], [33, 1], [33, 1], [33, 1], [33, 1], [33, 1], [33, 1], [33, 1], [33, 1], [33, 1], [33, 1], [33, 1], [33, 1], [33, 2], [33, 2], [33, 2], [33, 2], [33, 2], [33, 2], [33, 2], [33, 2], [33, 3], [33, 3], [33, 3], [33, 3], [33, 3], [33, 3], [33, 3], [33, 3], [33, 3], [33, 3], [33, 3], [33, 3], [33, 3], [33, 3], [33, 3], [33, 3], [33, 4], [33, 4], [33, 4], [33, 4], [33, 4], [33, 4], [33, 4], [35, 1], [35, 2], [35, 2], [35, 2], [35, 2], [35, 2], [35, 2], [35, 2], [35, 2], [35, 2], [35, 3], [35, 3], [35, 3], [35, 3], [35, 3], [35, 3], [35, 3], [35, 3], [35, 3], [35, 3], [35, 3], [35, 3], [35, 3], [35, 3], [35, 3], [35, 3], [35, 3], [35, 3], [35, 3], [35, 4], [35, 4], [35, 4], [36, 0], [36, 0], [36, 0], [36, 0], [36, 0], [36, 0], [36, 0], [36, 0], [36, 0], [36, 0], [36, 0], [36, 0], [36, 0], [36, 0], [36, 0], [36, 0], [36, 0], [36, 0], [36, 0], [36, 0], [36, 0], [36, 5], [36, 5], [36, 5], [36, 5], [36, 5], [36, 5], [36, 5], [36, 5], [36, 5], [36, 5], [36, 5], [36, 5], [36, 5], [37, 0], [37, 0], [37, 0], [37, 0], [37, 0], [37, 0], [37, 0], [37, 0], [37, 0], [37, 0], [37, 0], [37, 0], [37, 0], [37, 0], [37, 5], [37, 5], [37, 5], [37, 5], [37, 5], [38, 1], [38, 1], [38, 1], [38, 4], [38, 4], [38, 4], [38, 4], [38, 4], [38, 4], [38, 4], [38, 4], [38, 4], [38, 4], [38, 4]]\n",
      "[[0, 0], [0, 1], [0, 2], [0, 3], [0, 4], [0, 5], [1, 0], [1, 3], [2, 0], [2, 3], [3, 1], [3, 2], [5, 1], [5, 2], [5, 3], [5, 4], [6, 0], [6, 5], [7, 0], [7, 3], [7, 5], [8, 1], [8, 3], [8, 4], [8, 5], [10, 0], [10, 1], [10, 2], [10, 3], [10, 4], [10, 5], [11, 2], [12, 2], [13, 0], [13, 1], [13, 2], [13, 3], [13, 4], [13, 5], [15, 0], [15, 4], [15, 5], [16, 0], [16, 3], [16, 5], [17, 0], [17, 2], [17, 5], [18, 0], [18, 1], [18, 5], [20, 0], [20, 1], [20, 2], [20, 3], [20, 4], [20, 5], [21, 0], [21, 2], [21, 5], [22, 0], [22, 2], [22, 5], [23, 1], [23, 3], [23, 4], [25, 0], [25, 1], [25, 2], [25, 3], [25, 4], [25, 5], [26, 0], [26, 2], [27, 0], [27, 2], [28, 0], [30, 4], [31, 5], [32, 0], [32, 5], [33, 0], [33, 1], [33, 2], [33, 3], [33, 4], [35, 1], [35, 2], [35, 3], [35, 4], [36, 0], [36, 5], [37, 0], [37, 5], [38, 1], [38, 4]]\n",
      "96\n"
     ]
    },
    {
     "data": {
      "image/png": "[encoded data removed]"
     },
     "metadata": {
      "image/png": {}
     },
     "output_type": "display_data"
    }
   ],
   "source": [
    "import numpy as np\n",
    "import matplotlib.pyplot as plt\n",
    "\n",
    "INPUT = []\n",
    "fold_INPUT = []\n",
    "with open(\"input13.txt\") as f :\n",
    "    for lines in f:\n",
    "        l = lines.replace('\\n', '').split(',')\n",
    "        if len(l) > 1:\n",
    "            INPUT.append([ int(l[0]), int(l[1]) ])\n",
    "\n",
    "        elif len(l[0]) == 0 :\n",
    "            pass\n",
    "        else :\n",
    "            l = lines.replace('\\n', '')\n",
    "            l = l.split('=')\n",
    "            l[0] = l[0].replace('fold along ', '')\n",
    "            l[1] = int(l[1])\n",
    "            fold_INPUT.append(l)\n",
    "def extract(tab):\n",
    "    res_x = []\n",
    "    res_y = []\n",
    "    for pts in tab:\n",
    "        res_x.append(pts[0])\n",
    "        res_y.append(pts[1])\n",
    "    return res_x, res_y\n",
    "\n",
    "def fold(tab, axis, dist):\n",
    "    if axis == 'y':\n",
    "        axe = 1\n",
    "    else : \n",
    "        axe = 0\n",
    "    for pts in range( len(tab) ):\n",
    "        if tab[pts][axe] > dist:\n",
    "            tab[pts][axe] = 2*dist - tab[pts][axe]\n",
    "\n",
    "def clean(tab) :\n",
    "    mem = []\n",
    "    for pts in range(len(tab)-1, -1, -1) :\n",
    "        if tab[pts] in mem :\n",
    "            tab.remove(tab[pts])\n",
    "        else :\n",
    "            mem.append(tab[pts])\n",
    "\n",
    "\n",
    "for instruction in fold_INPUT:\n",
    "    fold(INPUT, instruction[0], instruction[1])\n",
    "X, Y = extract(INPUT)\n",
    "\n",
    "INPUT.sort()\n",
    "print(INPUT)\n",
    "clean(INPUT)\n",
    "print(INPUT)\n",
    "print(len(INPUT))\n",
    "\n",
    "fig, AX = plt.subplots(1, 1)\n",
    "\n",
    "AX.scatter(X, Y)\n",
    "AX.invert_yaxis()\n",
    "plt.axis(\"equal\")\n",
    "plt.show()"
   ]
  },
  {
   "cell_type": "code",
   "execution_count": 70,
   "metadata": {
    "datalore": {
     "hide_input_from_viewers": false,
     "hide_output_from_viewers": false,
     "node_id": "RxLd4b1TxrVW5C3aRW6ZC3",
     "type": "CODE"
    }
   },
   "outputs": [
    {
     "data": {
      "text/plain": [
       "[['x', 655],\n",
       " ['y', 447],\n",
       " ['x', 327],\n",
       " ['y', 223],\n",
       " ['x', 163],\n",
       " ['y', 111],\n",
       " ['x', 81],\n",
       " ['y', 55],\n",
       " ['x', 40],\n",
       " ['y', 27],\n",
       " ['y', 13],\n",
       " ['y', 6]]"
      ]
     },
     "metadata": {},
     "output_type": "display_data"
    }
   ],
   "source": [
    "fold_INPUT"
   ]
  },
  {
   "cell_type": "code",
   "execution_count": 10,
   "metadata": {
    "datalore": {
     "hide_input_from_viewers": false,
     "hide_output_from_viewers": false,
     "node_id": "L3IUDfsxwJ9vneRr4Loio2",
     "type": "CODE"
    }
   },
   "outputs": [
    {
     "data": {
      "image/png": "[encoded data removed]"
     },
     "metadata": {
      "image/png": {}
     },
     "output_type": "display_data"
    }
   ],
   "source": [
    "import numpy as np\n",
    "import matplotlib.pyplot as plt\n",
    "\n",
    "x=np.linspace(-3,3,100)\n",
    "y=3*x+4\n",
    "\n",
    "fig, (ax1, ax2) = plt.subplots(1, 2)\n",
    "\n",
    "ax1.plot(x, y)\n",
    "ax1.set_title(\"Normal Plot\")\n",
    "\n",
    "ax2.plot(x, y)\n",
    "ax2.set_title(\"Reverted axes\")\n",
    "ax2.invert_xaxis()\n",
    "ax2.invert_yaxis()"
   ]
  },
  {
   "attachments": {},
   "cell_type": "markdown",
   "metadata": {
    "datalore": {
     "hide_input_from_viewers": false,
     "hide_output_from_viewers": false,
     "sheet_delimiter": true,
     "type": "MD"
    }
   },
   "source": [
    "# 14"
   ]
  },
  {
   "cell_type": "code",
   "execution_count": 4,
   "metadata": {
    "datalore": {
     "hide_input_from_viewers": false,
     "hide_output_from_viewers": false,
     "node_id": "8Kt0L83ekp38hRTBERenbK",
     "type": "CODE"
    }
   },
   "outputs": [],
   "source": [
    "\n",
    "INPUT = []\n",
    "FORMULA = []\n",
    "with open(\"input14.txt\") as f:\n",
    "    for lines in f:\n",
    "        if len(lines) > 9:\n",
    "            for char in lines :\n",
    "                if char != '\\n':\n",
    "                    INPUT.append(char)\n",
    "        elif len(lines) > 1:\n",
    "            x = lines.replace('\\n', '').split(' -> ')\n",
    "            FORMULA.append( [ [x[0][0], x[0][1]], x[1] ] )\n",
    "\n",
    "for j in range(len(FORMULA)):\n",
    "    for i in range(len(INPUT) -2, -1, -1):\n",
    "        if [INPUT[i], INPUT[i + 1]] == FORMULA[j][0]:\n",
    "            if len(FORMULA[j]) == 2:\n",
    "                FORMULA[j].append(1)\n",
    "            elif len(FORMULA[j]) == 3:\n",
    "                FORMULA[j][2] += 1\n",
    "\n",
    "    if len(FORMULA[j]) == 2:\n",
    "        FORMULA[j].append(0)\n",
    "\n",
    "########################FONCTION########################\n",
    "\n",
    "def step(tab, formulas):\n",
    "    for i in range( len(tab)-2 , -1, -1):\n",
    "        pair = [tab[i], tab[i+1]]\n",
    "        for combo in formulas :\n",
    "            if pair == combo[0]:\n",
    "                tab.insert(i+1, combo[1])\n",
    "\n",
    "def merge(a, b):\n",
    "    return a+b\n",
    "    \n",
    "def growth(formules):\n",
    "    res = []\n",
    "    for x in range(len(formules)) :\n",
    "        res.append([[ formules[x][0][0],formules[x][1] ], \n",
    "                    [ formules[x][1],formules[x][0][1] ]] )\n",
    "    return res\n",
    "\n",
    "# def step40(formulas, growth):\n",
    "#     res = {}\n",
    "#     for i in range( len( formulas ) ):\n",
    "#         res[formulas[i][0]] = formulas[i][2]\n",
    "#     return res\n",
    "        \n",
    "\n",
    "def count_lm(tab):\n",
    "    res = []\n",
    "    for lettre in [chr(i) for i in range(ord('A'),ord('Z'))]:\n",
    "        res.append([tab.count(lettre), lettre])\n",
    "    res.sort()\n",
    "    i = 0\n",
    "    while res[i][0] == 0:\n",
    "        i += 1\n",
    "    return res[i], res[-1]\n",
    "\n",
    "GROWTH = growth(FORMULA)\n",
    "\n",
    "# Collection = step40(FORMULA, GROWTH)\n"
   ]
  },
  {
   "cell_type": "code",
   "execution_count": 5,
   "metadata": {
    "datalore": {
     "hide_input_from_viewers": false,
     "hide_output_from_viewers": false,
     "node_id": "1c52aRv4BVaeyPOndKJIeC",
     "type": "CODE"
    }
   },
   "outputs": [
    {
     "data": {
      "text/plain": [
       "[[['H', 'F'], 'O', 1],\n",
       " [['K', 'F'], 'F', 0],\n",
       " [['N', 'K'], 'F', 0],\n",
       " [['B', 'N'], 'O', 2],\n",
       " [['O', 'H'], 'H', 0],\n",
       " [['V', 'C'], 'F', 0],\n",
       " [['P', 'K'], 'B', 0],\n",
       " [['S', 'O'], 'B', 0],\n",
       " [['P', 'P'], 'H', 0],\n",
       " [['K', 'O'], 'F', 0],\n",
       " [['V', 'N'], 'S', 0],\n",
       " [['O', 'S'], 'B', 0],\n",
       " [['N', 'P'], 'C', 0],\n",
       " [['O', 'V'], 'C', 0],\n",
       " [['C', 'S'], 'P', 0],\n",
       " [['B', 'H'], 'P', 0],\n",
       " [['S', 'S'], 'P', 0],\n",
       " [['B', 'B'], 'H', 0],\n",
       " [['P', 'H'], 'V', 0],\n",
       " [['H', 'N'], 'F', 0],\n",
       " [['K', 'V'], 'H', 0],\n",
       " [['H', 'C'], 'B', 0],\n",
       " [['B', 'C'], 'P', 1],\n",
       " [['C', 'K'], 'P', 0],\n",
       " [['P', 'S'], 'O', 0],\n",
       " [['S', 'H'], 'N', 0],\n",
       " [['F', 'H'], 'N', 1],\n",
       " [['N', 'N'], 'P', 0],\n",
       " [['H', 'S'], 'O', 1],\n",
       " [['C', 'B'], 'F', 0],\n",
       " [['H', 'H'], 'F', 0],\n",
       " [['S', 'B'], 'P', 0],\n",
       " [['N', 'B'], 'F', 0],\n",
       " [['B', 'O'], 'V', 0],\n",
       " [['P', 'N'], 'H', 0],\n",
       " [['V', 'P'], 'B', 0],\n",
       " [['S', 'C'], 'C', 0],\n",
       " [['H', 'B'], 'H', 1],\n",
       " [['F', 'P'], 'O', 0],\n",
       " [['F', 'C'], 'H', 0],\n",
       " [['K', 'P'], 'B', 0],\n",
       " [['F', 'B'], 'B', 0],\n",
       " [['V', 'K'], 'F', 0],\n",
       " [['C', 'V'], 'P', 0],\n",
       " [['V', 'F'], 'V', 0],\n",
       " [['S', 'P'], 'K', 0],\n",
       " [['C', 'C'], 'K', 0],\n",
       " [['H', 'V'], 'P', 0],\n",
       " [['N', 'C'], 'N', 0],\n",
       " [['V', 'H'], 'K', 0],\n",
       " [['P', 'F'], 'P', 0],\n",
       " [['P', 'B'], 'S', 0],\n",
       " [['B', 'F'], 'K', 0],\n",
       " [['F', 'F'], 'C', 1],\n",
       " [['F', 'V'], 'V', 1],\n",
       " [['K', 'S'], 'H', 0],\n",
       " [['V', 'B'], 'F', 0],\n",
       " [['S', 'V'], 'F', 0],\n",
       " [['H', 'O'], 'B', 0],\n",
       " [['F', 'N'], 'C', 0],\n",
       " [['S', 'N'], 'F', 1],\n",
       " [['O', 'B'], 'N', 2],\n",
       " [['K', 'N'], 'P', 0],\n",
       " [['B', 'V'], 'H', 0],\n",
       " [['O', 'N'], 'N', 0],\n",
       " [['N', 'F'], 'S', 1],\n",
       " [['O', 'F'], 'P', 1],\n",
       " [['N', 'V'], 'S', 0],\n",
       " [['V', 'S'], 'C', 0],\n",
       " [['O', 'O'], 'C', 0],\n",
       " [['B', 'P'], 'H', 0],\n",
       " [['B', 'K'], 'N', 0],\n",
       " [['C', 'P'], 'N', 0],\n",
       " [['P', 'C'], 'K', 0],\n",
       " [['C', 'N'], 'H', 0],\n",
       " [['K', 'B'], 'B', 0],\n",
       " [['B', 'S'], 'P', 0],\n",
       " [['K', 'K'], 'P', 0],\n",
       " [['S', 'F'], 'V', 0],\n",
       " [['C', 'O'], 'V', 0],\n",
       " [['C', 'H'], 'P', 1],\n",
       " [['F', 'O'], 'B', 1],\n",
       " [['F', 'S'], 'F', 0],\n",
       " [['V', 'O'], 'H', 1],\n",
       " [['N', 'S'], 'F', 0],\n",
       " [['K', 'C'], 'H', 0],\n",
       " [['V', 'V'], 'K', 0],\n",
       " [['N', 'O'], 'P', 2],\n",
       " [['O', 'K'], 'F', 0],\n",
       " [['P', 'O'], 'V', 0],\n",
       " [['F', 'K'], 'H', 0],\n",
       " [['O', 'P'], 'H', 0],\n",
       " [['P', 'V'], 'N', 0],\n",
       " [['C', 'F'], 'P', 0],\n",
       " [['N', 'H'], 'K', 0],\n",
       " [['S', 'K'], 'O', 0],\n",
       " [['K', 'H'], 'P', 0],\n",
       " [['H', 'P'], 'V', 0],\n",
       " [['O', 'C'], 'V', 0],\n",
       " [['H', 'K'], 'F', 0]]"
      ]
     },
     "metadata": {},
     "output_type": "display_data"
    }
   ],
   "source": [
    "FORMULA "
   ]
  },
  {
   "cell_type": "code",
   "execution_count": 6,
   "metadata": {
    "datalore": {
     "hide_input_from_viewers": false,
     "hide_output_from_viewers": false,
     "node_id": "g3fhr4I8WR9iWJHREgP4hU",
     "type": "CODE"
    }
   },
   "outputs": [
    {
     "ename": "TypeError",
     "evalue": "TypeError: unhashable type: 'list'",
     "output_type": "error",
     "traceback": [
      "\u001b[0;31m---------------------------------------------------------------------------",
      "Traceback (most recent call last)",
      "    at line 3 in <module>",
      "TypeError: unhashable type: 'list'"
     ]
    }
   ],
   "source": [
    "collection = {}\n",
    "\n",
    "collection[ [4,6] ] = 5\n",
    "collection"
   ]
  },
  {
   "cell_type": "code",
   "execution_count": null,
   "metadata": {
    "datalore": {
     "hide_input_from_viewers": false,
     "hide_output_from_viewers": false,
     "node_id": "qPiaSPrqSOi4FfcShh34WB",
     "type": "CODE"
    }
   },
   "outputs": [],
   "source": []
  },
  {
   "attachments": {},
   "cell_type": "markdown",
   "metadata": {
    "datalore": {
     "hide_input_from_viewers": false,
     "hide_output_from_viewers": false,
     "sheet_delimiter": true,
     "type": "MD"
    }
   },
   "source": [
    "# 14 - 2"
   ]
  },
  {
   "cell_type": "code",
   "execution_count": 167,
   "metadata": {
    "datalore": {
     "hide_input_from_viewers": false,
     "hide_output_from_viewers": false,
     "node_id": "hUnbbJagtLnqC2Ejmzodlj",
     "type": "CODE"
    }
   },
   "outputs": [],
   "source": [
    "import copy as cp\n",
    "\n",
    "INPUT = []\n",
    "FORMULA = []\n",
    "with open(\"input14.txt\") as f:\n",
    "#with open(\"test14-2\") as f:\n",
    "    for lines in f:\n",
    "        if lines.count('-') == 0:\n",
    "            for char in lines :\n",
    "                if char != '\\n':\n",
    "                    INPUT.append(char)\n",
    "        elif len(lines) > 1:\n",
    "            x = lines.replace('\\n', '').split(' -> ')\n",
    "            FORMULA.append( [ str(x[0][0] + x[0][1]), x[1] ] )\n",
    "\n",
    "\n",
    "for i, formule in enumerate(FORMULA) :\n",
    "    FORMULA[i] = [ formule[0], str( formule[0][0] + formule[1] ), str( formule[1] + formule[0][1]) ]\n",
    "\n",
    "##########################\n",
    "def init_step(input):\n",
    "    dict_res = {}\n",
    "    for reaction in FORMULA :\n",
    "        dict_res[reaction[0]] = 0\n",
    "    for i in range(len (input) - 1) :\n",
    "        key = str( input[i] + input[i+1] )\n",
    "        if key in dict_res :\n",
    "            dict_res[key] += 1\n",
    "        else :\n",
    "            dict_res[key] = -1\n",
    "    return dict_res\n",
    "\n",
    "def step(seed) :\n",
    "    new_seed = cp.copy(seed)\n",
    "    for i,elem in enumerate(seed) :\n",
    "        new_seed[FORMULA[i][1]] += seed[elem]\n",
    "        new_seed[FORMULA[i][2]] += seed[elem]\n",
    "        new_seed[elem] -= seed[elem]\n",
    "    return dict(new_seed)\n",
    "\n",
    "def count_elem(molecule) :\n",
    "    res = {}\n",
    "    for reaction in FORMULA :\n",
    "        for j in range(2):\n",
    "            if reaction[0][j] not in res :\n",
    "                res[reaction[0][j]] = 0\n",
    "                \n",
    "    for i in molecule :\n",
    "        res[ i[0] ] += molecule[i]\n",
    "        res[ i[1] ] += molecule[i]\n",
    "    return res\n"
   ]
  },
  {
   "cell_type": "code",
   "execution_count": 169,
   "metadata": {
    "datalore": {
     "hide_input_from_viewers": false,
     "hide_output_from_viewers": false,
     "node_id": "rQmA5oC6hYH3r7gEBYmOkm",
     "type": "CODE"
    }
   },
   "outputs": [
    {
     "data": {
      "text/plain": [
       "3724343376942"
      ]
     },
     "metadata": {},
     "output_type": "display_data"
    }
   ],
   "source": [
    "import math as m\n",
    "seed = init_step(INPUT)\n",
    "for i in range(40) :\n",
    "    seed = step(seed)\n",
    "#print(max(seed.values()) - min(seed.values()))\n",
    "#497047949110040399868732853376364 too high\n",
    "# 3724343376942 gud\n",
    "m.ceil(( max(count_elem(seed).values()) - min(count_elem(seed).values())) /2)\n",
    "#ok j'avoue c'est pas joli"
   ]
  },
  {
   "cell_type": "code",
   "execution_count": 149,
   "metadata": {
    "datalore": {
     "hide_input_from_viewers": false,
     "hide_output_from_viewers": false,
     "node_id": "Z2zJbRd8HN0y8K5z5DbLL3",
     "type": "CODE"
    }
   },
   "outputs": [
    {
     "ename": "KeyError",
     "evalue": "KeyError: 'C'",
     "output_type": "error",
     "traceback": [
      "\u001b[0;31m---------------------------------------------------------------------------",
      "Traceback (most recent call last)",
      "    at line 1 in <module>",
      "KeyError: 'C'"
     ]
    }
   ],
   "source": [
    "seed[C]"
   ]
  },
  {
   "cell_type": "code",
   "execution_count": null,
   "metadata": {
    "datalore": {
     "hide_input_from_viewers": false,
     "hide_output_from_viewers": false,
     "node_id": "vp5SKnvn0a2qlXvKPyQZAq",
     "type": "CODE"
    }
   },
   "outputs": [],
   "source": []
  },
  {
   "attachments": {},
   "cell_type": "markdown",
   "metadata": {
    "datalore": {
     "hide_input_from_viewers": false,
     "hide_output_from_viewers": false,
     "sheet_delimiter": true,
     "type": "MD"
    }
   },
   "source": [
    "# 15"
   ]
  },
  {
   "cell_type": "code",
   "execution_count": 1,
   "metadata": {
    "datalore": {
     "hide_input_from_viewers": false,
     "hide_output_from_viewers": false,
     "node_id": "dBll9ICz74B5MiX8jKoa2W",
     "type": "CODE"
    }
   },
   "outputs": [],
   "source": [
    "import numpy as np\n",
    "# hmmm on pourrait utiliser de l'ia pour ce pb \n",
    "\n",
    "with open( \"input15\") as f:\n",
    "    cave = []\n",
    "    for lines in f:\n",
    "        y = []\n",
    "        for i in range( len(lines) ):\n",
    "            try:\n",
    "                y.append(int(lines[i]))\n",
    "            except:\n",
    "                pass\n",
    "        cave.append(y)\n",
    "\n",
    "def path_cost(map, path) :\n",
    "    res = 0\n",
    "    for pos in path[1:]:\n",
    "        res += map[ pos[0] ][ pos[1] ]\n",
    "    return res\n",
    "\n",
    "def min_cost(node_list):\n",
    "    res = node_list[0]\n",
    "    for n in node_list[1:]:\n",
    "        if n.c <= res.c:\n",
    "            res = n\n",
    "    return res\n",
    "\n",
    "class Node:\n",
    "    \n",
    "    def __init__(self, position, parent):\n",
    "        (x,y) = position\n",
    "        #if x < 0 or x > 99 or y < 0 or y > 99 :\n",
    "        if x < 0 or x > 499 or y < 0 or y > 499 :\n",
    "            raise ValueError  \n",
    "        self.position = position\n",
    "        self.parent = parent\n",
    "        self.c = 999\n",
    "\n",
    "    def __str__(self):\n",
    "        return str(self.position) + \" = \" + str(self.c)\n",
    "    \n",
    "    def __repr__(self):\n",
    "        return str(self.position)\n",
    "    \n",
    "    def __eq__(self, other):\n",
    "        return self.position == other.position\n",
    "    \n",
    "    def show(self):\n",
    "        print(\"Position :\", self.position)\n",
    "        print(\"Cost :\", self.c)\n",
    "        print(\"Parent :\", self.parent)\n",
    "\n",
    "    def path(self):\n",
    "        path = [self.position]\n",
    "        c = self.parent\n",
    "        while c is not None:\n",
    "            path.append(c.position)\n",
    "            c = c.parent\n",
    "        return path[::-1]\n",
    "\n",
    "def findpath(map, start, end):\n",
    "    start_node = Node(start, None)\n",
    "    start_node.c = 0\n",
    "    end_node = Node(end, None)\n",
    "    \n",
    "    open = []\n",
    "    closed = []\n",
    "\n",
    "    open.append(start_node)\n",
    "    min_path = []\n",
    "    while len(open) > 0:\n",
    "        current_node = min_cost(open)\n",
    "        open.remove(current_node)\n",
    "        closed.append(current_node)\n",
    "        if current_node == end_node:\n",
    "            min_path.append(current_node.path())\n",
    "\n",
    "            return current_node.path()\n",
    "            # return min_path.path()\n",
    "        # print(current_node)\n",
    "        # print(open)\n",
    "        for new_pos in [(1,0), (0,1), (-1,0), (0,-1)]:\n",
    "            if current_node.position[0] + new_pos[0] >= len(map) or current_node.position[0] + new_pos[0] < 0 :\n",
    "                continue\n",
    "            if current_node.position[1] + new_pos[1] >= len(map[0]) or current_node.position[1] + new_pos[1] < 0 :\n",
    "                continue\n",
    "            \n",
    "            n = Node((current_node.position[0] + new_pos[0], current_node.position[1] + new_pos[1]), current_node)\n",
    "            if n not in closed :\n",
    "                n.c = map[n.position[0]][n.position[1]] + current_node.c\n",
    "                if not (n in open) or not (n.c <= current_node.c):\n",
    "                    pass\n",
    "                else:\n",
    "                    open.append(n)\n",
    "                if n not in open:\n",
    "                    open.append(n)\n",
    "    return min_path\n",
    "                            "
   ]
  },
  {
   "cell_type": "code",
   "execution_count": 2,
   "metadata": {
    "datalore": {
     "hide_input_from_viewers": false,
     "hide_output_from_viewers": false,
     "node_id": "PBkh5LXZ4xobYg9nqHhiOo",
     "type": "CODE"
    }
   },
   "outputs": [
    {
     "data": {
      "text/plain": [
       "741"
      ]
     },
     "metadata": {},
     "output_type": "display_data"
    }
   ],
   "source": [
    "a = findpath(cave, (0,0), (99,99))\n",
    "path_cost(cave,a)\n",
    "#899 too high\n",
    "#741 !"
   ]
  },
  {
   "cell_type": "code",
   "execution_count": 6,
   "metadata": {
    "datalore": {
     "hide_input_from_viewers": false,
     "hide_output_from_viewers": false,
     "node_id": "shTmC3mlxoSEfPBECNwKW9",
     "type": "CODE"
    }
   },
   "outputs": [
    {
     "data": {
      "image/png": "[encoded data removed]"
     },
     "metadata": {
      "image/png": {}
     },
     "output_type": "display_data"
    }
   ],
   "source": [
    "import matplotlib.pyplot as plt\n",
    "\n",
    "(x,y) = zip(*a)\n",
    "fig, ax = plt.subplots(figsize = (10,10))\n",
    "ax.invert_yaxis()\n",
    "ax.grid(True)\n",
    "plt.imshow(cave, cmap='hot')\n",
    "plt.plot(y,x)\n",
    "plt.show()"
   ]
  },
  {
   "cell_type": "code",
   "execution_count": 3,
   "metadata": {
    "datalore": {
     "hide_input_from_viewers": false,
     "hide_output_from_viewers": false,
     "node_id": "IYYdO4v4kREae6jjyCFLHS",
     "type": "CODE"
    }
   },
   "outputs": [],
   "source": [
    "####Part 2\n",
    "\n",
    "def wide_map(map):\n",
    "    n = len(map)\n",
    "    wide_map = [ [0 for _ in range(n*5)] for _ in range(n*5)]\n",
    "    for tile_x in range(5):\n",
    "        for tile_y in range(5) :\n",
    "            for x in range(n):\n",
    "                for y in range(n):\n",
    "                    wide_map[x + n*tile_x][y + n*tile_y] = ( map[x][y] + tile_x + tile_y )%10\n",
    "    return wide_map"
   ]
  },
  {
   "cell_type": "code",
   "execution_count": 12,
   "metadata": {
    "datalore": {
     "hide_input_from_viewers": false,
     "hide_output_from_viewers": false,
     "node_id": "0pOs6nyXIZp7aeFX2hmiAt",
     "type": "CODE"
    }
   },
   "outputs": [
    {
     "name": "stdout",
     "output_type": "stream",
     "text": [
      "500\n"
     ]
    }
   ],
   "source": [
    "wide_cave = wide_map(cave)\n",
    "# plt.imshow(wide_cave, cmap='hot')\n",
    "# plt.show()\n",
    "print(len(wide_cave))"
   ]
  },
  {
   "cell_type": "code",
   "execution_count": 87,
   "metadata": {
    "datalore": {
     "hide_input_from_viewers": false,
     "hide_output_from_viewers": false,
     "node_id": "9BM1rYOFKdrF0WXjApTnl7",
     "type": "CODE"
    }
   },
   "outputs": [
    {
     "ename": "KeyboardInterrupt",
     "evalue": "KeyboardInterrupt: ",
     "output_type": "error",
     "traceback": [
      "\u001b[0;31m---------------------------------------------------------------------------",
      "Traceback (most recent call last)",
      "    at line 1 in <module>",
      "    at line 89 in findpath(map, start, end)",
      "    at line 46 in __eq__(self, other)",
      "KeyboardInterrupt: "
     ]
    }
   ],
   "source": [
    "a = findpath(wide_cave, (0,0), (499,499))\n",
    "path_cost(wide_cave,a)"
   ]
  },
  {
   "cell_type": "code",
   "execution_count": 2,
   "metadata": {
    "datalore": {
     "hide_input_from_viewers": false,
     "hide_output_from_viewers": false,
     "node_id": "vn2JOmvDIq1aAfE1sAuOQM",
     "type": "CODE"
    }
   },
   "outputs": [],
   "source": [
    "# https://github.com/hyper-neutrino/advent-of-code/tree/main/2021 :)\n",
    "\n",
    "_risk = [list(map(int, line)) for line in cave]"
   ]
  },
  {
   "cell_type": "code",
   "execution_count": 4,
   "metadata": {
    "datalore": {
     "hide_input_from_viewers": false,
     "hide_output_from_viewers": false,
     "node_id": "uOlmxnZWAs49km0Uu6dVDh",
     "type": "CODE"
    }
   },
   "outputs": [
    {
     "name": "stdout",
     "output_type": "stream",
     "text": [
      "Yep :2976\n"
     ]
    },
    {
     "ename": "IndexError",
     "evalue": "IndexError: index out of range",
     "output_type": "error",
     "traceback": [
      "\u001b[0;31m---------------------------------------------------------------------------",
      "Traceback (most recent call last)",
      "    at line 20 in <module>",
      "IndexError: index out of range"
     ]
    }
   ],
   "source": [
    "\n",
    "\n",
    "\n",
    "def wrap(x):\n",
    "    return (x - 1) % 9 + 1\n",
    "\n",
    "risk = [[0] * len(row) * 5 for row in _risk * 5]\n",
    "\n",
    "r = len(_risk)\n",
    "c = len(_risk[0])\n",
    "\n",
    "for i in range(len(risk)):\n",
    "    for j in range(len(risk[i])):\n",
    "        risk[i][j] = wrap(_risk[i % r][j % c] + i // r + j // c)\n",
    "\n",
    "import heapq\n",
    "\n",
    "paths = [(0, 0, 0)]\n",
    "\n",
    "vis = [[0] * len(row) for row in risk]\n",
    "\n",
    "while True:\n",
    "    rf, x, y = heapq.heappop(paths)\n",
    "    if vis[x][y]: continue\n",
    "    if (x, y) == (len(risk) - 1, len(risk[x]) - 1):\n",
    "        print(\"Yep :\" + str(rf))\n",
    "        exit(0)\n",
    "    vis[x][y] = 1\n",
    "    for nx, ny in [(x - 1, y), (x + 1, y), (x, y - 1), (x, y + 1)]:\n",
    "        if not len(risk) > nx >= 0 <= ny < len(risk[0]): continue\n",
    "        if vis[nx][ny]: continue\n",
    "        heapq.heappush(paths, (rf + risk[nx][ny], nx, ny))"
   ]
  },
  {
   "cell_type": "code",
   "execution_count": null,
   "metadata": {
    "datalore": {
     "hide_input_from_viewers": false,
     "hide_output_from_viewers": false,
     "node_id": "orNmnowlM7m3NAcRz7ORyn",
     "type": "CODE"
    }
   },
   "outputs": [],
   "source": []
  },
  {
   "attachments": {},
   "cell_type": "markdown",
   "metadata": {
    "datalore": {
     "hide_input_from_viewers": false,
     "hide_output_from_viewers": false,
     "sheet_delimiter": true,
     "type": "MD"
    }
   },
   "source": [
    "# 16"
   ]
  },
  {
   "cell_type": "code",
   "execution_count": 26,
   "metadata": {
    "datalore": {
     "hide_input_from_viewers": false,
     "hide_output_from_viewers": false,
     "node_id": "4XSChHKheRjSNCKGAxEele",
     "type": "CODE"
    }
   },
   "outputs": [
    {
     "data": {
      "text/plain": [
       "'110100101111111000101000'"
      ]
     },
     "metadata": {},
     "output_type": "display_data"
    }
   ],
   "source": [
    "with open(\"input16\") as f:\n",
    "    data = bin(int(f.read(),16))\n",
    "#int(nb, base), int(nb, 16) = 0x -> 0d\n",
    "#bin(nb) = 0d -> 0b\n",
    "\n",
    "with open(\"test16\") as f:\n",
    "    test1 = f.readline().replace(\"\\n\", \"\")\n",
    "    test2 = f.readline().replace(\"\\n\", \"\")\n",
    "    test3 = f.readline().replace(\"\\n\", \"\")\n",
    "    test4 = f.readline().replace(\"\\n\", \"\")\n",
    "    test5 = f.readline().replace(\"\\n\", \"\")\n",
    "    test6 = f.readline().replace(\"\\n\", \"\")\n",
    "    test7 = f.readline().replace(\"\\n\", \"\")\n",
    "\n",
    "test1"
   ]
  },
  {
   "cell_type": "code",
   "execution_count": 30,
   "metadata": {
    "datalore": {
     "hide_input_from_viewers": false,
     "hide_output_from_viewers": false,
     "node_id": "WcoEJHlI1Out01NeEdY5Bn",
     "type": "CODE"
    }
   },
   "outputs": [],
   "source": [
    "def read_transmission(bin_input : str):\n",
    "    version = bin_input[:2]\n",
    "    return int(version, 2)"
   ]
  },
  {
   "cell_type": "code",
   "execution_count": 31,
   "metadata": {
    "datalore": {
     "hide_input_from_viewers": false,
     "hide_output_from_viewers": false,
     "node_id": "xQB38WrtTrOwbNwlEIFghU",
     "type": "CODE"
    }
   },
   "outputs": [
    {
     "data": {
      "text/plain": [
       "3"
      ]
     },
     "metadata": {},
     "output_type": "display_data"
    }
   ],
   "source": [
    "read_transmission(test1)"
   ]
  },
  {
   "cell_type": "code",
   "execution_count": null,
   "metadata": {
    "datalore": {
     "hide_input_from_viewers": false,
     "hide_output_from_viewers": false,
     "node_id": "lcVeQ5RdYi0jBbVW9AAmb4",
     "type": "CODE"
    }
   },
   "outputs": [],
   "source": []
  }
 ],
 "metadata": {
  "datalore": {
   "computation_mode": "JUPYTER",
   "packages": [],
   "version": 1
  },
  "kernelspec": {
   "display_name": "Python",
   "language": "python",
   "name": "python"
  }
 },
 "nbformat": 4,
 "nbformat_minor": 4
}
