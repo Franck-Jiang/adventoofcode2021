{
 "cells": [
  {
   "cell_type": "code",
   "execution_count": 39,
   "id": "46f9efda",
   "metadata": {},
   "outputs": [],
   "source": [
    "%matplotlib notebook\n",
    "\n",
    "import numpy as np\n",
    "import matplotlib.pyplot as plt"
   ]
  },
  {
   "cell_type": "code",
   "execution_count": 98,
   "id": "a641a1fa",
   "metadata": {},
   "outputs": [],
   "source": [
    "data = []\n",
    "scanner = []\n",
    "with open(\"input19.txt\") as f:\n",
    "    for line in f.readlines():\n",
    "        if line == '\\n':\n",
    "            continue\n",
    "        if line[0:3] == '---':\n",
    "            if len(scanner)> 0:\n",
    "                data.append(scanner)\n",
    "            scanner = []\n",
    "            continue\n",
    "        scanner.append( [int(i) for i in line.replace('\\n', '').split(',')] )\n",
    "\n",
    "scan1 = np.array( data[0] ) \n",
    "scan2 = np.array( data[1] )"
   ]
  },
  {
   "cell_type": "code",
   "execution_count": 144,
   "id": "50d42770",
   "metadata": {},
   "outputs": [],
   "source": [
    "def create_dist(scan):\n",
    "    dist = np.zeros([len(scan), len(scan)])\n",
    "    for i in range( len(scan) ):\n",
    "        for j in range(i, len(scan) ):\n",
    "            dist[i][j] = int(np.linalg.norm(np.array(scan[i]) - np.array(scan[j]))*10000)/10000\n",
    "\n",
    "    return dist\n",
    "\n",
    "def common(distm1, distm2):\n",
    "    for dist_list in distm1:\n",
    "        for d in dist_list:\n",
    "            for dist_list2 in distm2:\n",
    "                if d in dist_list2:\n",
    "                    return d"
   ]
  },
  {
   "cell_type": "code",
   "execution_count": 145,
   "id": "ad2df503",
   "metadata": {
    "scrolled": true
   },
   "outputs": [
    {
     "name": "stderr",
     "output_type": "stream",
     "text": [
      "C:\\Users\\Franc\\AppData\\Local\\Temp\\ipykernel_30120\\1734183950.py:1: VisibleDeprecationWarning: Creating an ndarray from ragged nested sequences (which is a list-or-tuple of lists-or-tuples-or ndarrays with different lengths or shapes) is deprecated. If you meant to do this, you must specify 'dtype=object' when creating the ndarray.\n",
      "  distance_matrix = np.array([create_dist(scan) for scan in data])\n"
     ]
    }
   ],
   "source": [
    "distance_matrix = np.array([create_dist(scan) for scan in data])"
   ]
  },
  {
   "cell_type": "code",
   "execution_count": null,
   "id": "06f6744d",
   "metadata": {},
   "outputs": [],
   "source": []
  },
  {
   "cell_type": "code",
   "execution_count": 132,
   "id": "56c6d25e",
   "metadata": {},
   "outputs": [],
   "source": [
    "d1 = create_dist(scan1)"
   ]
  },
  {
   "cell_type": "code",
   "execution_count": 133,
   "id": "5e30c655",
   "metadata": {},
   "outputs": [
    {
     "data": {
      "text/plain": [
       "array([[0., 3., 4.],\n",
       "       [0., 0., 5.],\n",
       "       [0., 0., 0.]])"
      ]
     },
     "execution_count": 133,
     "metadata": {},
     "output_type": "execute_result"
    }
   ],
   "source": [
    "test = np.array([[0,0,0], [3,0,0], [0,4,0]])\n",
    "test2 = create_dist(test)\n",
    "test2"
   ]
  },
  {
   "cell_type": "code",
   "execution_count": 126,
   "id": "5438e5d4",
   "metadata": {},
   "outputs": [
    {
     "data": {
      "text/plain": [
       "(0, 1)"
      ]
     },
     "execution_count": 126,
     "metadata": {},
     "output_type": "execute_result"
    }
   ],
   "source": [
    "dist_exists(test2[0][1], test2)"
   ]
  },
  {
   "cell_type": "code",
   "execution_count": null,
   "id": "51edf46e",
   "metadata": {},
   "outputs": [],
   "source": []
  },
  {
   "cell_type": "code",
   "execution_count": null,
   "id": "0121d5f4",
   "metadata": {},
   "outputs": [],
   "source": []
  }
 ],
 "metadata": {
  "kernelspec": {
   "display_name": "Python 3 (ipykernel)",
   "language": "python",
   "name": "python3"
  },
  "language_info": {
   "codemirror_mode": {
    "name": "ipython",
    "version": 3
   },
   "file_extension": ".py",
   "mimetype": "text/x-python",
   "name": "python",
   "nbconvert_exporter": "python",
   "pygments_lexer": "ipython3",
   "version": "3.9.12"
  }
 },
 "nbformat": 4,
 "nbformat_minor": 5
}
